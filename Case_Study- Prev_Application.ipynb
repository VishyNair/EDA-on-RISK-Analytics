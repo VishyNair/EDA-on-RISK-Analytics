{
 "cells": [
  {
   "cell_type": "markdown",
   "metadata": {},
   "source": [
    "### IMPORT LIBRARIES"
   ]
  },
  {
   "cell_type": "code",
   "execution_count": 3,
   "metadata": {},
   "outputs": [],
   "source": [
    "#Supress Warnings\n",
    "import warnings\n",
    "warnings.filterwarnings('ignore')"
   ]
  },
  {
   "cell_type": "code",
   "execution_count": 4,
   "metadata": {},
   "outputs": [],
   "source": [
    "#Import the packages\n",
    "import numpy as np\n",
    "import pandas as pd\n",
    "import seaborn as sns\n",
    "import matplotlib.pyplot as plt\n",
    "import pandas_profiling as pp\n",
    "pd.set_option('display.max_columns',500)\n",
    "pd.set_option('display.max_rows',500)\n",
    "pd.options.display.float_format = '{:.2f}'.format"
   ]
  },
  {
   "cell_type": "markdown",
   "metadata": {},
   "source": [
    "### READING THE FILE AND INITIAL CHECK"
   ]
  },
  {
   "cell_type": "code",
   "execution_count": 5,
   "metadata": {},
   "outputs": [],
   "source": [
    "# Read the csv file using 'read_csv'\n",
    "prev_app = pd.read_csv(\"./case_study_statistics/previous_application.csv\")"
   ]
  },
  {
   "cell_type": "code",
   "execution_count": 6,
   "metadata": {},
   "outputs": [
    {
     "data": {
      "text/html": [
       "<div>\n",
       "<style scoped>\n",
       "    .dataframe tbody tr th:only-of-type {\n",
       "        vertical-align: middle;\n",
       "    }\n",
       "\n",
       "    .dataframe tbody tr th {\n",
       "        vertical-align: top;\n",
       "    }\n",
       "\n",
       "    .dataframe thead th {\n",
       "        text-align: right;\n",
       "    }\n",
       "</style>\n",
       "<table border=\"1\" class=\"dataframe\">\n",
       "  <thead>\n",
       "    <tr style=\"text-align: right;\">\n",
       "      <th></th>\n",
       "      <th>SK_ID_PREV</th>\n",
       "      <th>SK_ID_CURR</th>\n",
       "      <th>NAME_CONTRACT_TYPE</th>\n",
       "      <th>AMT_ANNUITY</th>\n",
       "      <th>AMT_APPLICATION</th>\n",
       "      <th>AMT_CREDIT</th>\n",
       "      <th>AMT_DOWN_PAYMENT</th>\n",
       "      <th>AMT_GOODS_PRICE</th>\n",
       "      <th>WEEKDAY_APPR_PROCESS_START</th>\n",
       "      <th>HOUR_APPR_PROCESS_START</th>\n",
       "      <th>FLAG_LAST_APPL_PER_CONTRACT</th>\n",
       "      <th>NFLAG_LAST_APPL_IN_DAY</th>\n",
       "      <th>RATE_DOWN_PAYMENT</th>\n",
       "      <th>RATE_INTEREST_PRIMARY</th>\n",
       "      <th>RATE_INTEREST_PRIVILEGED</th>\n",
       "      <th>NAME_CASH_LOAN_PURPOSE</th>\n",
       "      <th>NAME_CONTRACT_STATUS</th>\n",
       "      <th>DAYS_DECISION</th>\n",
       "      <th>NAME_PAYMENT_TYPE</th>\n",
       "      <th>CODE_REJECT_REASON</th>\n",
       "      <th>NAME_TYPE_SUITE</th>\n",
       "      <th>NAME_CLIENT_TYPE</th>\n",
       "      <th>NAME_GOODS_CATEGORY</th>\n",
       "      <th>NAME_PORTFOLIO</th>\n",
       "      <th>NAME_PRODUCT_TYPE</th>\n",
       "      <th>CHANNEL_TYPE</th>\n",
       "      <th>SELLERPLACE_AREA</th>\n",
       "      <th>NAME_SELLER_INDUSTRY</th>\n",
       "      <th>CNT_PAYMENT</th>\n",
       "      <th>NAME_YIELD_GROUP</th>\n",
       "      <th>PRODUCT_COMBINATION</th>\n",
       "      <th>DAYS_FIRST_DRAWING</th>\n",
       "      <th>DAYS_FIRST_DUE</th>\n",
       "      <th>DAYS_LAST_DUE_1ST_VERSION</th>\n",
       "      <th>DAYS_LAST_DUE</th>\n",
       "      <th>DAYS_TERMINATION</th>\n",
       "      <th>NFLAG_INSURED_ON_APPROVAL</th>\n",
       "    </tr>\n",
       "  </thead>\n",
       "  <tbody>\n",
       "    <tr>\n",
       "      <th>0</th>\n",
       "      <td>2030495</td>\n",
       "      <td>271877</td>\n",
       "      <td>Consumer loans</td>\n",
       "      <td>1730.43</td>\n",
       "      <td>17145.00</td>\n",
       "      <td>17145.00</td>\n",
       "      <td>0.00</td>\n",
       "      <td>17145.00</td>\n",
       "      <td>SATURDAY</td>\n",
       "      <td>15</td>\n",
       "      <td>Y</td>\n",
       "      <td>1</td>\n",
       "      <td>0.00</td>\n",
       "      <td>0.18</td>\n",
       "      <td>0.87</td>\n",
       "      <td>XAP</td>\n",
       "      <td>Approved</td>\n",
       "      <td>-73</td>\n",
       "      <td>Cash through the bank</td>\n",
       "      <td>XAP</td>\n",
       "      <td>NaN</td>\n",
       "      <td>Repeater</td>\n",
       "      <td>Mobile</td>\n",
       "      <td>POS</td>\n",
       "      <td>XNA</td>\n",
       "      <td>Country-wide</td>\n",
       "      <td>35</td>\n",
       "      <td>Connectivity</td>\n",
       "      <td>12.00</td>\n",
       "      <td>middle</td>\n",
       "      <td>POS mobile with interest</td>\n",
       "      <td>365243.00</td>\n",
       "      <td>-42.00</td>\n",
       "      <td>300.00</td>\n",
       "      <td>-42.00</td>\n",
       "      <td>-37.00</td>\n",
       "      <td>0.00</td>\n",
       "    </tr>\n",
       "    <tr>\n",
       "      <th>1</th>\n",
       "      <td>2802425</td>\n",
       "      <td>108129</td>\n",
       "      <td>Cash loans</td>\n",
       "      <td>25188.62</td>\n",
       "      <td>607500.00</td>\n",
       "      <td>679671.00</td>\n",
       "      <td>nan</td>\n",
       "      <td>607500.00</td>\n",
       "      <td>THURSDAY</td>\n",
       "      <td>11</td>\n",
       "      <td>Y</td>\n",
       "      <td>1</td>\n",
       "      <td>nan</td>\n",
       "      <td>nan</td>\n",
       "      <td>nan</td>\n",
       "      <td>XNA</td>\n",
       "      <td>Approved</td>\n",
       "      <td>-164</td>\n",
       "      <td>XNA</td>\n",
       "      <td>XAP</td>\n",
       "      <td>Unaccompanied</td>\n",
       "      <td>Repeater</td>\n",
       "      <td>XNA</td>\n",
       "      <td>Cash</td>\n",
       "      <td>x-sell</td>\n",
       "      <td>Contact center</td>\n",
       "      <td>-1</td>\n",
       "      <td>XNA</td>\n",
       "      <td>36.00</td>\n",
       "      <td>low_action</td>\n",
       "      <td>Cash X-Sell: low</td>\n",
       "      <td>365243.00</td>\n",
       "      <td>-134.00</td>\n",
       "      <td>916.00</td>\n",
       "      <td>365243.00</td>\n",
       "      <td>365243.00</td>\n",
       "      <td>1.00</td>\n",
       "    </tr>\n",
       "    <tr>\n",
       "      <th>2</th>\n",
       "      <td>2523466</td>\n",
       "      <td>122040</td>\n",
       "      <td>Cash loans</td>\n",
       "      <td>15060.74</td>\n",
       "      <td>112500.00</td>\n",
       "      <td>136444.50</td>\n",
       "      <td>nan</td>\n",
       "      <td>112500.00</td>\n",
       "      <td>TUESDAY</td>\n",
       "      <td>11</td>\n",
       "      <td>Y</td>\n",
       "      <td>1</td>\n",
       "      <td>nan</td>\n",
       "      <td>nan</td>\n",
       "      <td>nan</td>\n",
       "      <td>XNA</td>\n",
       "      <td>Approved</td>\n",
       "      <td>-301</td>\n",
       "      <td>Cash through the bank</td>\n",
       "      <td>XAP</td>\n",
       "      <td>Spouse, partner</td>\n",
       "      <td>Repeater</td>\n",
       "      <td>XNA</td>\n",
       "      <td>Cash</td>\n",
       "      <td>x-sell</td>\n",
       "      <td>Credit and cash offices</td>\n",
       "      <td>-1</td>\n",
       "      <td>XNA</td>\n",
       "      <td>12.00</td>\n",
       "      <td>high</td>\n",
       "      <td>Cash X-Sell: high</td>\n",
       "      <td>365243.00</td>\n",
       "      <td>-271.00</td>\n",
       "      <td>59.00</td>\n",
       "      <td>365243.00</td>\n",
       "      <td>365243.00</td>\n",
       "      <td>1.00</td>\n",
       "    </tr>\n",
       "    <tr>\n",
       "      <th>3</th>\n",
       "      <td>2819243</td>\n",
       "      <td>176158</td>\n",
       "      <td>Cash loans</td>\n",
       "      <td>47041.33</td>\n",
       "      <td>450000.00</td>\n",
       "      <td>470790.00</td>\n",
       "      <td>nan</td>\n",
       "      <td>450000.00</td>\n",
       "      <td>MONDAY</td>\n",
       "      <td>7</td>\n",
       "      <td>Y</td>\n",
       "      <td>1</td>\n",
       "      <td>nan</td>\n",
       "      <td>nan</td>\n",
       "      <td>nan</td>\n",
       "      <td>XNA</td>\n",
       "      <td>Approved</td>\n",
       "      <td>-512</td>\n",
       "      <td>Cash through the bank</td>\n",
       "      <td>XAP</td>\n",
       "      <td>NaN</td>\n",
       "      <td>Repeater</td>\n",
       "      <td>XNA</td>\n",
       "      <td>Cash</td>\n",
       "      <td>x-sell</td>\n",
       "      <td>Credit and cash offices</td>\n",
       "      <td>-1</td>\n",
       "      <td>XNA</td>\n",
       "      <td>12.00</td>\n",
       "      <td>middle</td>\n",
       "      <td>Cash X-Sell: middle</td>\n",
       "      <td>365243.00</td>\n",
       "      <td>-482.00</td>\n",
       "      <td>-152.00</td>\n",
       "      <td>-182.00</td>\n",
       "      <td>-177.00</td>\n",
       "      <td>1.00</td>\n",
       "    </tr>\n",
       "    <tr>\n",
       "      <th>4</th>\n",
       "      <td>1784265</td>\n",
       "      <td>202054</td>\n",
       "      <td>Cash loans</td>\n",
       "      <td>31924.40</td>\n",
       "      <td>337500.00</td>\n",
       "      <td>404055.00</td>\n",
       "      <td>nan</td>\n",
       "      <td>337500.00</td>\n",
       "      <td>THURSDAY</td>\n",
       "      <td>9</td>\n",
       "      <td>Y</td>\n",
       "      <td>1</td>\n",
       "      <td>nan</td>\n",
       "      <td>nan</td>\n",
       "      <td>nan</td>\n",
       "      <td>Repairs</td>\n",
       "      <td>Refused</td>\n",
       "      <td>-781</td>\n",
       "      <td>Cash through the bank</td>\n",
       "      <td>HC</td>\n",
       "      <td>NaN</td>\n",
       "      <td>Repeater</td>\n",
       "      <td>XNA</td>\n",
       "      <td>Cash</td>\n",
       "      <td>walk-in</td>\n",
       "      <td>Credit and cash offices</td>\n",
       "      <td>-1</td>\n",
       "      <td>XNA</td>\n",
       "      <td>24.00</td>\n",
       "      <td>high</td>\n",
       "      <td>Cash Street: high</td>\n",
       "      <td>nan</td>\n",
       "      <td>nan</td>\n",
       "      <td>nan</td>\n",
       "      <td>nan</td>\n",
       "      <td>nan</td>\n",
       "      <td>nan</td>\n",
       "    </tr>\n",
       "  </tbody>\n",
       "</table>\n",
       "</div>"
      ],
      "text/plain": [
       "   SK_ID_PREV  SK_ID_CURR NAME_CONTRACT_TYPE  AMT_ANNUITY  AMT_APPLICATION  \\\n",
       "0     2030495      271877     Consumer loans      1730.43         17145.00   \n",
       "1     2802425      108129         Cash loans     25188.62        607500.00   \n",
       "2     2523466      122040         Cash loans     15060.74        112500.00   \n",
       "3     2819243      176158         Cash loans     47041.33        450000.00   \n",
       "4     1784265      202054         Cash loans     31924.40        337500.00   \n",
       "\n",
       "   AMT_CREDIT  AMT_DOWN_PAYMENT  AMT_GOODS_PRICE WEEKDAY_APPR_PROCESS_START  \\\n",
       "0    17145.00              0.00         17145.00                   SATURDAY   \n",
       "1   679671.00               nan        607500.00                   THURSDAY   \n",
       "2   136444.50               nan        112500.00                    TUESDAY   \n",
       "3   470790.00               nan        450000.00                     MONDAY   \n",
       "4   404055.00               nan        337500.00                   THURSDAY   \n",
       "\n",
       "   HOUR_APPR_PROCESS_START FLAG_LAST_APPL_PER_CONTRACT  \\\n",
       "0                       15                           Y   \n",
       "1                       11                           Y   \n",
       "2                       11                           Y   \n",
       "3                        7                           Y   \n",
       "4                        9                           Y   \n",
       "\n",
       "   NFLAG_LAST_APPL_IN_DAY  RATE_DOWN_PAYMENT  RATE_INTEREST_PRIMARY  \\\n",
       "0                       1               0.00                   0.18   \n",
       "1                       1                nan                    nan   \n",
       "2                       1                nan                    nan   \n",
       "3                       1                nan                    nan   \n",
       "4                       1                nan                    nan   \n",
       "\n",
       "   RATE_INTEREST_PRIVILEGED NAME_CASH_LOAN_PURPOSE NAME_CONTRACT_STATUS  \\\n",
       "0                      0.87                    XAP             Approved   \n",
       "1                       nan                    XNA             Approved   \n",
       "2                       nan                    XNA             Approved   \n",
       "3                       nan                    XNA             Approved   \n",
       "4                       nan                Repairs              Refused   \n",
       "\n",
       "   DAYS_DECISION      NAME_PAYMENT_TYPE CODE_REJECT_REASON  NAME_TYPE_SUITE  \\\n",
       "0            -73  Cash through the bank                XAP              NaN   \n",
       "1           -164                    XNA                XAP    Unaccompanied   \n",
       "2           -301  Cash through the bank                XAP  Spouse, partner   \n",
       "3           -512  Cash through the bank                XAP              NaN   \n",
       "4           -781  Cash through the bank                 HC              NaN   \n",
       "\n",
       "  NAME_CLIENT_TYPE NAME_GOODS_CATEGORY NAME_PORTFOLIO NAME_PRODUCT_TYPE  \\\n",
       "0         Repeater              Mobile            POS               XNA   \n",
       "1         Repeater                 XNA           Cash            x-sell   \n",
       "2         Repeater                 XNA           Cash            x-sell   \n",
       "3         Repeater                 XNA           Cash            x-sell   \n",
       "4         Repeater                 XNA           Cash           walk-in   \n",
       "\n",
       "              CHANNEL_TYPE  SELLERPLACE_AREA NAME_SELLER_INDUSTRY  \\\n",
       "0             Country-wide                35         Connectivity   \n",
       "1           Contact center                -1                  XNA   \n",
       "2  Credit and cash offices                -1                  XNA   \n",
       "3  Credit and cash offices                -1                  XNA   \n",
       "4  Credit and cash offices                -1                  XNA   \n",
       "\n",
       "   CNT_PAYMENT NAME_YIELD_GROUP       PRODUCT_COMBINATION  DAYS_FIRST_DRAWING  \\\n",
       "0        12.00           middle  POS mobile with interest           365243.00   \n",
       "1        36.00       low_action          Cash X-Sell: low           365243.00   \n",
       "2        12.00             high         Cash X-Sell: high           365243.00   \n",
       "3        12.00           middle       Cash X-Sell: middle           365243.00   \n",
       "4        24.00             high         Cash Street: high                 nan   \n",
       "\n",
       "   DAYS_FIRST_DUE  DAYS_LAST_DUE_1ST_VERSION  DAYS_LAST_DUE  DAYS_TERMINATION  \\\n",
       "0          -42.00                     300.00         -42.00            -37.00   \n",
       "1         -134.00                     916.00      365243.00         365243.00   \n",
       "2         -271.00                      59.00      365243.00         365243.00   \n",
       "3         -482.00                    -152.00        -182.00           -177.00   \n",
       "4             nan                        nan            nan               nan   \n",
       "\n",
       "   NFLAG_INSURED_ON_APPROVAL  \n",
       "0                       0.00  \n",
       "1                       1.00  \n",
       "2                       1.00  \n",
       "3                       1.00  \n",
       "4                        nan  "
      ]
     },
     "execution_count": 6,
     "metadata": {},
     "output_type": "execute_result"
    }
   ],
   "source": [
    "prev_app.head()"
   ]
  },
  {
   "cell_type": "markdown",
   "metadata": {},
   "source": [
    "Inspect the structure -Describe and Shape"
   ]
  },
  {
   "cell_type": "code",
   "execution_count": 7,
   "metadata": {},
   "outputs": [
    {
     "data": {
      "text/plain": [
       "(1670214, 37)"
      ]
     },
     "execution_count": 7,
     "metadata": {},
     "output_type": "execute_result"
    }
   ],
   "source": [
    "prev_app.shape"
   ]
  },
  {
   "cell_type": "code",
   "execution_count": 8,
   "metadata": {},
   "outputs": [
    {
     "data": {
      "text/html": [
       "<div>\n",
       "<style scoped>\n",
       "    .dataframe tbody tr th:only-of-type {\n",
       "        vertical-align: middle;\n",
       "    }\n",
       "\n",
       "    .dataframe tbody tr th {\n",
       "        vertical-align: top;\n",
       "    }\n",
       "\n",
       "    .dataframe thead th {\n",
       "        text-align: right;\n",
       "    }\n",
       "</style>\n",
       "<table border=\"1\" class=\"dataframe\">\n",
       "  <thead>\n",
       "    <tr style=\"text-align: right;\">\n",
       "      <th></th>\n",
       "      <th>SK_ID_PREV</th>\n",
       "      <th>SK_ID_CURR</th>\n",
       "      <th>AMT_ANNUITY</th>\n",
       "      <th>AMT_APPLICATION</th>\n",
       "      <th>AMT_CREDIT</th>\n",
       "      <th>AMT_DOWN_PAYMENT</th>\n",
       "      <th>AMT_GOODS_PRICE</th>\n",
       "      <th>HOUR_APPR_PROCESS_START</th>\n",
       "      <th>NFLAG_LAST_APPL_IN_DAY</th>\n",
       "      <th>RATE_DOWN_PAYMENT</th>\n",
       "      <th>RATE_INTEREST_PRIMARY</th>\n",
       "      <th>RATE_INTEREST_PRIVILEGED</th>\n",
       "      <th>DAYS_DECISION</th>\n",
       "      <th>SELLERPLACE_AREA</th>\n",
       "      <th>CNT_PAYMENT</th>\n",
       "      <th>DAYS_FIRST_DRAWING</th>\n",
       "      <th>DAYS_FIRST_DUE</th>\n",
       "      <th>DAYS_LAST_DUE_1ST_VERSION</th>\n",
       "      <th>DAYS_LAST_DUE</th>\n",
       "      <th>DAYS_TERMINATION</th>\n",
       "      <th>NFLAG_INSURED_ON_APPROVAL</th>\n",
       "    </tr>\n",
       "  </thead>\n",
       "  <tbody>\n",
       "    <tr>\n",
       "      <th>count</th>\n",
       "      <td>1670214.00</td>\n",
       "      <td>1670214.00</td>\n",
       "      <td>1297979.00</td>\n",
       "      <td>1670214.00</td>\n",
       "      <td>1670213.00</td>\n",
       "      <td>774370.00</td>\n",
       "      <td>1284699.00</td>\n",
       "      <td>1670214.00</td>\n",
       "      <td>1670214.00</td>\n",
       "      <td>774370.00</td>\n",
       "      <td>5951.00</td>\n",
       "      <td>5951.00</td>\n",
       "      <td>1670214.00</td>\n",
       "      <td>1670214.00</td>\n",
       "      <td>1297984.00</td>\n",
       "      <td>997149.00</td>\n",
       "      <td>997149.00</td>\n",
       "      <td>997149.00</td>\n",
       "      <td>997149.00</td>\n",
       "      <td>997149.00</td>\n",
       "      <td>997149.00</td>\n",
       "    </tr>\n",
       "    <tr>\n",
       "      <th>mean</th>\n",
       "      <td>1923089.14</td>\n",
       "      <td>278357.17</td>\n",
       "      <td>15955.12</td>\n",
       "      <td>175233.86</td>\n",
       "      <td>196114.02</td>\n",
       "      <td>6697.40</td>\n",
       "      <td>227847.28</td>\n",
       "      <td>12.48</td>\n",
       "      <td>1.00</td>\n",
       "      <td>0.08</td>\n",
       "      <td>0.19</td>\n",
       "      <td>0.77</td>\n",
       "      <td>-880.68</td>\n",
       "      <td>313.95</td>\n",
       "      <td>16.05</td>\n",
       "      <td>342209.86</td>\n",
       "      <td>13826.27</td>\n",
       "      <td>33767.77</td>\n",
       "      <td>76582.40</td>\n",
       "      <td>81992.34</td>\n",
       "      <td>0.33</td>\n",
       "    </tr>\n",
       "    <tr>\n",
       "      <th>std</th>\n",
       "      <td>532597.96</td>\n",
       "      <td>102814.82</td>\n",
       "      <td>14782.14</td>\n",
       "      <td>292779.76</td>\n",
       "      <td>318574.62</td>\n",
       "      <td>20921.50</td>\n",
       "      <td>315396.56</td>\n",
       "      <td>3.33</td>\n",
       "      <td>0.06</td>\n",
       "      <td>0.11</td>\n",
       "      <td>0.09</td>\n",
       "      <td>0.10</td>\n",
       "      <td>779.10</td>\n",
       "      <td>7127.44</td>\n",
       "      <td>14.57</td>\n",
       "      <td>88916.12</td>\n",
       "      <td>72444.87</td>\n",
       "      <td>106857.03</td>\n",
       "      <td>149647.42</td>\n",
       "      <td>153303.52</td>\n",
       "      <td>0.47</td>\n",
       "    </tr>\n",
       "    <tr>\n",
       "      <th>min</th>\n",
       "      <td>1000001.00</td>\n",
       "      <td>100001.00</td>\n",
       "      <td>0.00</td>\n",
       "      <td>0.00</td>\n",
       "      <td>0.00</td>\n",
       "      <td>-0.90</td>\n",
       "      <td>0.00</td>\n",
       "      <td>0.00</td>\n",
       "      <td>0.00</td>\n",
       "      <td>-0.00</td>\n",
       "      <td>0.03</td>\n",
       "      <td>0.37</td>\n",
       "      <td>-2922.00</td>\n",
       "      <td>-1.00</td>\n",
       "      <td>0.00</td>\n",
       "      <td>-2922.00</td>\n",
       "      <td>-2892.00</td>\n",
       "      <td>-2801.00</td>\n",
       "      <td>-2889.00</td>\n",
       "      <td>-2874.00</td>\n",
       "      <td>0.00</td>\n",
       "    </tr>\n",
       "    <tr>\n",
       "      <th>25%</th>\n",
       "      <td>1461857.25</td>\n",
       "      <td>189329.00</td>\n",
       "      <td>6321.78</td>\n",
       "      <td>18720.00</td>\n",
       "      <td>24160.50</td>\n",
       "      <td>0.00</td>\n",
       "      <td>50841.00</td>\n",
       "      <td>10.00</td>\n",
       "      <td>1.00</td>\n",
       "      <td>0.00</td>\n",
       "      <td>0.16</td>\n",
       "      <td>0.72</td>\n",
       "      <td>-1300.00</td>\n",
       "      <td>-1.00</td>\n",
       "      <td>6.00</td>\n",
       "      <td>365243.00</td>\n",
       "      <td>-1628.00</td>\n",
       "      <td>-1242.00</td>\n",
       "      <td>-1314.00</td>\n",
       "      <td>-1270.00</td>\n",
       "      <td>0.00</td>\n",
       "    </tr>\n",
       "    <tr>\n",
       "      <th>50%</th>\n",
       "      <td>1923110.50</td>\n",
       "      <td>278714.50</td>\n",
       "      <td>11250.00</td>\n",
       "      <td>71046.00</td>\n",
       "      <td>80541.00</td>\n",
       "      <td>1638.00</td>\n",
       "      <td>112320.00</td>\n",
       "      <td>12.00</td>\n",
       "      <td>1.00</td>\n",
       "      <td>0.05</td>\n",
       "      <td>0.19</td>\n",
       "      <td>0.84</td>\n",
       "      <td>-581.00</td>\n",
       "      <td>3.00</td>\n",
       "      <td>12.00</td>\n",
       "      <td>365243.00</td>\n",
       "      <td>-831.00</td>\n",
       "      <td>-361.00</td>\n",
       "      <td>-537.00</td>\n",
       "      <td>-499.00</td>\n",
       "      <td>0.00</td>\n",
       "    </tr>\n",
       "    <tr>\n",
       "      <th>75%</th>\n",
       "      <td>2384279.75</td>\n",
       "      <td>367514.00</td>\n",
       "      <td>20658.42</td>\n",
       "      <td>180360.00</td>\n",
       "      <td>216418.50</td>\n",
       "      <td>7740.00</td>\n",
       "      <td>234000.00</td>\n",
       "      <td>15.00</td>\n",
       "      <td>1.00</td>\n",
       "      <td>0.11</td>\n",
       "      <td>0.19</td>\n",
       "      <td>0.85</td>\n",
       "      <td>-280.00</td>\n",
       "      <td>82.00</td>\n",
       "      <td>24.00</td>\n",
       "      <td>365243.00</td>\n",
       "      <td>-411.00</td>\n",
       "      <td>129.00</td>\n",
       "      <td>-74.00</td>\n",
       "      <td>-44.00</td>\n",
       "      <td>1.00</td>\n",
       "    </tr>\n",
       "    <tr>\n",
       "      <th>max</th>\n",
       "      <td>2845382.00</td>\n",
       "      <td>456255.00</td>\n",
       "      <td>418058.15</td>\n",
       "      <td>6905160.00</td>\n",
       "      <td>6905160.00</td>\n",
       "      <td>3060045.00</td>\n",
       "      <td>6905160.00</td>\n",
       "      <td>23.00</td>\n",
       "      <td>1.00</td>\n",
       "      <td>1.00</td>\n",
       "      <td>1.00</td>\n",
       "      <td>1.00</td>\n",
       "      <td>-1.00</td>\n",
       "      <td>4000000.00</td>\n",
       "      <td>84.00</td>\n",
       "      <td>365243.00</td>\n",
       "      <td>365243.00</td>\n",
       "      <td>365243.00</td>\n",
       "      <td>365243.00</td>\n",
       "      <td>365243.00</td>\n",
       "      <td>1.00</td>\n",
       "    </tr>\n",
       "  </tbody>\n",
       "</table>\n",
       "</div>"
      ],
      "text/plain": [
       "       SK_ID_PREV  SK_ID_CURR  AMT_ANNUITY  AMT_APPLICATION  AMT_CREDIT  \\\n",
       "count  1670214.00  1670214.00   1297979.00       1670214.00  1670213.00   \n",
       "mean   1923089.14   278357.17     15955.12        175233.86   196114.02   \n",
       "std     532597.96   102814.82     14782.14        292779.76   318574.62   \n",
       "min    1000001.00   100001.00         0.00             0.00        0.00   \n",
       "25%    1461857.25   189329.00      6321.78         18720.00    24160.50   \n",
       "50%    1923110.50   278714.50     11250.00         71046.00    80541.00   \n",
       "75%    2384279.75   367514.00     20658.42        180360.00   216418.50   \n",
       "max    2845382.00   456255.00    418058.15       6905160.00  6905160.00   \n",
       "\n",
       "       AMT_DOWN_PAYMENT  AMT_GOODS_PRICE  HOUR_APPR_PROCESS_START  \\\n",
       "count         774370.00       1284699.00               1670214.00   \n",
       "mean            6697.40        227847.28                    12.48   \n",
       "std            20921.50        315396.56                     3.33   \n",
       "min               -0.90             0.00                     0.00   \n",
       "25%                0.00         50841.00                    10.00   \n",
       "50%             1638.00        112320.00                    12.00   \n",
       "75%             7740.00        234000.00                    15.00   \n",
       "max          3060045.00       6905160.00                    23.00   \n",
       "\n",
       "       NFLAG_LAST_APPL_IN_DAY  RATE_DOWN_PAYMENT  RATE_INTEREST_PRIMARY  \\\n",
       "count              1670214.00          774370.00                5951.00   \n",
       "mean                     1.00               0.08                   0.19   \n",
       "std                      0.06               0.11                   0.09   \n",
       "min                      0.00              -0.00                   0.03   \n",
       "25%                      1.00               0.00                   0.16   \n",
       "50%                      1.00               0.05                   0.19   \n",
       "75%                      1.00               0.11                   0.19   \n",
       "max                      1.00               1.00                   1.00   \n",
       "\n",
       "       RATE_INTEREST_PRIVILEGED  DAYS_DECISION  SELLERPLACE_AREA  CNT_PAYMENT  \\\n",
       "count                   5951.00     1670214.00        1670214.00   1297984.00   \n",
       "mean                       0.77        -880.68            313.95        16.05   \n",
       "std                        0.10         779.10           7127.44        14.57   \n",
       "min                        0.37       -2922.00             -1.00         0.00   \n",
       "25%                        0.72       -1300.00             -1.00         6.00   \n",
       "50%                        0.84        -581.00              3.00        12.00   \n",
       "75%                        0.85        -280.00             82.00        24.00   \n",
       "max                        1.00          -1.00        4000000.00        84.00   \n",
       "\n",
       "       DAYS_FIRST_DRAWING  DAYS_FIRST_DUE  DAYS_LAST_DUE_1ST_VERSION  \\\n",
       "count           997149.00       997149.00                  997149.00   \n",
       "mean            342209.86        13826.27                   33767.77   \n",
       "std              88916.12        72444.87                  106857.03   \n",
       "min              -2922.00        -2892.00                   -2801.00   \n",
       "25%             365243.00        -1628.00                   -1242.00   \n",
       "50%             365243.00         -831.00                    -361.00   \n",
       "75%             365243.00         -411.00                     129.00   \n",
       "max             365243.00       365243.00                  365243.00   \n",
       "\n",
       "       DAYS_LAST_DUE  DAYS_TERMINATION  NFLAG_INSURED_ON_APPROVAL  \n",
       "count      997149.00         997149.00                  997149.00  \n",
       "mean        76582.40          81992.34                       0.33  \n",
       "std        149647.42         153303.52                       0.47  \n",
       "min         -2889.00          -2874.00                       0.00  \n",
       "25%         -1314.00          -1270.00                       0.00  \n",
       "50%          -537.00           -499.00                       0.00  \n",
       "75%           -74.00            -44.00                       1.00  \n",
       "max        365243.00         365243.00                       1.00  "
      ]
     },
     "execution_count": 8,
     "metadata": {},
     "output_type": "execute_result"
    }
   ],
   "source": [
    "prev_app.describe()"
   ]
  },
  {
   "cell_type": "markdown",
   "metadata": {},
   "source": [
    "### MISSING VALUES - DATA CLEANING"
   ]
  },
  {
   "cell_type": "code",
   "execution_count": 9,
   "metadata": {},
   "outputs": [
    {
     "data": {
      "text/html": [
       "<div>\n",
       "<style scoped>\n",
       "    .dataframe tbody tr th:only-of-type {\n",
       "        vertical-align: middle;\n",
       "    }\n",
       "\n",
       "    .dataframe tbody tr th {\n",
       "        vertical-align: top;\n",
       "    }\n",
       "\n",
       "    .dataframe thead th {\n",
       "        text-align: right;\n",
       "    }\n",
       "</style>\n",
       "<table border=\"1\" class=\"dataframe\">\n",
       "  <thead>\n",
       "    <tr style=\"text-align: right;\">\n",
       "      <th></th>\n",
       "      <th>RATE_INTEREST_PRIVILEGED</th>\n",
       "      <th>RATE_INTEREST_PRIMARY</th>\n",
       "      <th>RATE_DOWN_PAYMENT</th>\n",
       "      <th>AMT_DOWN_PAYMENT</th>\n",
       "      <th>NAME_TYPE_SUITE</th>\n",
       "      <th>DAYS_TERMINATION</th>\n",
       "      <th>NFLAG_INSURED_ON_APPROVAL</th>\n",
       "      <th>DAYS_FIRST_DRAWING</th>\n",
       "      <th>DAYS_FIRST_DUE</th>\n",
       "      <th>DAYS_LAST_DUE_1ST_VERSION</th>\n",
       "      <th>DAYS_LAST_DUE</th>\n",
       "      <th>AMT_GOODS_PRICE</th>\n",
       "      <th>AMT_ANNUITY</th>\n",
       "      <th>CNT_PAYMENT</th>\n",
       "      <th>PRODUCT_COMBINATION</th>\n",
       "      <th>AMT_CREDIT</th>\n",
       "      <th>SK_ID_CURR</th>\n",
       "      <th>NAME_CONTRACT_TYPE</th>\n",
       "      <th>WEEKDAY_APPR_PROCESS_START</th>\n",
       "      <th>HOUR_APPR_PROCESS_START</th>\n",
       "      <th>FLAG_LAST_APPL_PER_CONTRACT</th>\n",
       "      <th>NFLAG_LAST_APPL_IN_DAY</th>\n",
       "      <th>AMT_APPLICATION</th>\n",
       "      <th>NAME_PAYMENT_TYPE</th>\n",
       "      <th>NAME_CASH_LOAN_PURPOSE</th>\n",
       "      <th>NAME_CONTRACT_STATUS</th>\n",
       "      <th>DAYS_DECISION</th>\n",
       "      <th>CODE_REJECT_REASON</th>\n",
       "      <th>NAME_CLIENT_TYPE</th>\n",
       "      <th>NAME_GOODS_CATEGORY</th>\n",
       "      <th>NAME_PORTFOLIO</th>\n",
       "      <th>NAME_PRODUCT_TYPE</th>\n",
       "      <th>CHANNEL_TYPE</th>\n",
       "      <th>SELLERPLACE_AREA</th>\n",
       "      <th>NAME_SELLER_INDUSTRY</th>\n",
       "      <th>NAME_YIELD_GROUP</th>\n",
       "      <th>SK_ID_PREV</th>\n",
       "    </tr>\n",
       "  </thead>\n",
       "  <tbody>\n",
       "    <tr>\n",
       "      <th>Total</th>\n",
       "      <td>1664263.00</td>\n",
       "      <td>1664263.00</td>\n",
       "      <td>895844.00</td>\n",
       "      <td>895844.00</td>\n",
       "      <td>820405.00</td>\n",
       "      <td>673065.00</td>\n",
       "      <td>673065.00</td>\n",
       "      <td>673065.00</td>\n",
       "      <td>673065.00</td>\n",
       "      <td>673065.00</td>\n",
       "      <td>673065.00</td>\n",
       "      <td>385515.00</td>\n",
       "      <td>372235.00</td>\n",
       "      <td>372230.00</td>\n",
       "      <td>346.00</td>\n",
       "      <td>1.00</td>\n",
       "      <td>0.00</td>\n",
       "      <td>0.00</td>\n",
       "      <td>0.00</td>\n",
       "      <td>0.00</td>\n",
       "      <td>0.00</td>\n",
       "      <td>0.00</td>\n",
       "      <td>0.00</td>\n",
       "      <td>0.00</td>\n",
       "      <td>0.00</td>\n",
       "      <td>0.00</td>\n",
       "      <td>0.00</td>\n",
       "      <td>0.00</td>\n",
       "      <td>0.00</td>\n",
       "      <td>0.00</td>\n",
       "      <td>0.00</td>\n",
       "      <td>0.00</td>\n",
       "      <td>0.00</td>\n",
       "      <td>0.00</td>\n",
       "      <td>0.00</td>\n",
       "      <td>0.00</td>\n",
       "      <td>0.00</td>\n",
       "    </tr>\n",
       "    <tr>\n",
       "      <th>Perc</th>\n",
       "      <td>99.64</td>\n",
       "      <td>99.64</td>\n",
       "      <td>53.64</td>\n",
       "      <td>53.64</td>\n",
       "      <td>49.12</td>\n",
       "      <td>40.30</td>\n",
       "      <td>40.30</td>\n",
       "      <td>40.30</td>\n",
       "      <td>40.30</td>\n",
       "      <td>40.30</td>\n",
       "      <td>40.30</td>\n",
       "      <td>23.08</td>\n",
       "      <td>22.29</td>\n",
       "      <td>22.29</td>\n",
       "      <td>0.02</td>\n",
       "      <td>0.00</td>\n",
       "      <td>0.00</td>\n",
       "      <td>0.00</td>\n",
       "      <td>0.00</td>\n",
       "      <td>0.00</td>\n",
       "      <td>0.00</td>\n",
       "      <td>0.00</td>\n",
       "      <td>0.00</td>\n",
       "      <td>0.00</td>\n",
       "      <td>0.00</td>\n",
       "      <td>0.00</td>\n",
       "      <td>0.00</td>\n",
       "      <td>0.00</td>\n",
       "      <td>0.00</td>\n",
       "      <td>0.00</td>\n",
       "      <td>0.00</td>\n",
       "      <td>0.00</td>\n",
       "      <td>0.00</td>\n",
       "      <td>0.00</td>\n",
       "      <td>0.00</td>\n",
       "      <td>0.00</td>\n",
       "      <td>0.00</td>\n",
       "    </tr>\n",
       "  </tbody>\n",
       "</table>\n",
       "</div>"
      ],
      "text/plain": [
       "       RATE_INTEREST_PRIVILEGED  RATE_INTEREST_PRIMARY  RATE_DOWN_PAYMENT  \\\n",
       "Total                1664263.00             1664263.00          895844.00   \n",
       "Perc                      99.64                  99.64              53.64   \n",
       "\n",
       "       AMT_DOWN_PAYMENT  NAME_TYPE_SUITE  DAYS_TERMINATION  \\\n",
       "Total         895844.00        820405.00         673065.00   \n",
       "Perc              53.64            49.12             40.30   \n",
       "\n",
       "       NFLAG_INSURED_ON_APPROVAL  DAYS_FIRST_DRAWING  DAYS_FIRST_DUE  \\\n",
       "Total                  673065.00           673065.00       673065.00   \n",
       "Perc                       40.30               40.30           40.30   \n",
       "\n",
       "       DAYS_LAST_DUE_1ST_VERSION  DAYS_LAST_DUE  AMT_GOODS_PRICE  AMT_ANNUITY  \\\n",
       "Total                  673065.00      673065.00        385515.00    372235.00   \n",
       "Perc                       40.30          40.30            23.08        22.29   \n",
       "\n",
       "       CNT_PAYMENT  PRODUCT_COMBINATION  AMT_CREDIT  SK_ID_CURR  \\\n",
       "Total    372230.00               346.00        1.00        0.00   \n",
       "Perc         22.29                 0.02        0.00        0.00   \n",
       "\n",
       "       NAME_CONTRACT_TYPE  WEEKDAY_APPR_PROCESS_START  \\\n",
       "Total                0.00                        0.00   \n",
       "Perc                 0.00                        0.00   \n",
       "\n",
       "       HOUR_APPR_PROCESS_START  FLAG_LAST_APPL_PER_CONTRACT  \\\n",
       "Total                     0.00                         0.00   \n",
       "Perc                      0.00                         0.00   \n",
       "\n",
       "       NFLAG_LAST_APPL_IN_DAY  AMT_APPLICATION  NAME_PAYMENT_TYPE  \\\n",
       "Total                    0.00             0.00               0.00   \n",
       "Perc                     0.00             0.00               0.00   \n",
       "\n",
       "       NAME_CASH_LOAN_PURPOSE  NAME_CONTRACT_STATUS  DAYS_DECISION  \\\n",
       "Total                    0.00                  0.00           0.00   \n",
       "Perc                     0.00                  0.00           0.00   \n",
       "\n",
       "       CODE_REJECT_REASON  NAME_CLIENT_TYPE  NAME_GOODS_CATEGORY  \\\n",
       "Total                0.00              0.00                 0.00   \n",
       "Perc                 0.00              0.00                 0.00   \n",
       "\n",
       "       NAME_PORTFOLIO  NAME_PRODUCT_TYPE  CHANNEL_TYPE  SELLERPLACE_AREA  \\\n",
       "Total            0.00               0.00          0.00              0.00   \n",
       "Perc             0.00               0.00          0.00              0.00   \n",
       "\n",
       "       NAME_SELLER_INDUSTRY  NAME_YIELD_GROUP  SK_ID_PREV  \n",
       "Total                  0.00              0.00        0.00  \n",
       "Perc                   0.00              0.00        0.00  "
      ]
     },
     "execution_count": 9,
     "metadata": {},
     "output_type": "execute_result"
    }
   ],
   "source": [
    "#Columnwise count and percntage of missing values\n",
    "#This helps us in removing unnecessary columns.\n",
    "total = prev_app.isnull().sum().sort_values(ascending=False)\n",
    "perc  = ((prev_app.isnull().sum()/prev_app.isnull().count())*100).sort_values(ascending=False)\n",
    "pd.concat([total,perc],axis=1,keys=['Total','Perc']).transpose()"
   ]
  },
  {
   "cell_type": "code",
   "execution_count": 10,
   "metadata": {},
   "outputs": [],
   "source": [
    "#Converting the Pandas series to Dataframe\n",
    "perc2 = pd.DataFrame(perc).transpose()\n",
    "#Listing all the column names of the DF.\n",
    "list1 = list(perc2.columns.values)"
   ]
  },
  {
   "cell_type": "code",
   "execution_count": 11,
   "metadata": {},
   "outputs": [
    {
     "data": {
      "text/plain": [
       "['RATE_INTEREST_PRIVILEGED',\n",
       " 'RATE_INTEREST_PRIMARY',\n",
       " 'RATE_DOWN_PAYMENT',\n",
       " 'AMT_DOWN_PAYMENT',\n",
       " 'NAME_TYPE_SUITE']"
      ]
     },
     "execution_count": 11,
     "metadata": {},
     "output_type": "execute_result"
    }
   ],
   "source": [
    "#For initial drop of columns, we can keep a percentage limit.\n",
    "#Here I could find many columns are having hugh percentage of missing values. So keeping 49% as kind of threshold.\n",
    "list_to_drop=[]\n",
    "for i in list1:\n",
    "    if perc[i] > 49:\n",
    "        list_to_drop.append(i)\n",
    "list_to_drop   "
   ]
  },
  {
   "cell_type": "markdown",
   "metadata": {},
   "source": [
    "We are going to drop all those columns which are having high percentage of Null values like RATE_INTEREST_PRIVILEGED and RATE_INTEREST_PRIMARY. Also since the columns RATE_DOWN_PAYMENT and AMT_DOWN_PAYMENT are having more than 50% of null values, imputing them won't be a good choice since it will impact the overall status. NAME_TYPE_SUITE which is having 49% can also be dropped since it won't be much of an important column for analysis here after. "
   ]
  },
  {
   "cell_type": "code",
   "execution_count": 12,
   "metadata": {},
   "outputs": [
    {
     "data": {
      "text/html": [
       "<div>\n",
       "<style scoped>\n",
       "    .dataframe tbody tr th:only-of-type {\n",
       "        vertical-align: middle;\n",
       "    }\n",
       "\n",
       "    .dataframe tbody tr th {\n",
       "        vertical-align: top;\n",
       "    }\n",
       "\n",
       "    .dataframe thead th {\n",
       "        text-align: right;\n",
       "    }\n",
       "</style>\n",
       "<table border=\"1\" class=\"dataframe\">\n",
       "  <thead>\n",
       "    <tr style=\"text-align: right;\">\n",
       "      <th></th>\n",
       "      <th>SK_ID_PREV</th>\n",
       "      <th>SK_ID_CURR</th>\n",
       "      <th>NAME_CONTRACT_TYPE</th>\n",
       "      <th>AMT_ANNUITY</th>\n",
       "      <th>AMT_APPLICATION</th>\n",
       "      <th>AMT_CREDIT</th>\n",
       "      <th>AMT_GOODS_PRICE</th>\n",
       "      <th>WEEKDAY_APPR_PROCESS_START</th>\n",
       "      <th>HOUR_APPR_PROCESS_START</th>\n",
       "      <th>FLAG_LAST_APPL_PER_CONTRACT</th>\n",
       "      <th>NFLAG_LAST_APPL_IN_DAY</th>\n",
       "      <th>NAME_CASH_LOAN_PURPOSE</th>\n",
       "      <th>NAME_CONTRACT_STATUS</th>\n",
       "      <th>DAYS_DECISION</th>\n",
       "      <th>NAME_PAYMENT_TYPE</th>\n",
       "      <th>CODE_REJECT_REASON</th>\n",
       "      <th>NAME_CLIENT_TYPE</th>\n",
       "      <th>NAME_GOODS_CATEGORY</th>\n",
       "      <th>NAME_PORTFOLIO</th>\n",
       "      <th>NAME_PRODUCT_TYPE</th>\n",
       "      <th>CHANNEL_TYPE</th>\n",
       "      <th>SELLERPLACE_AREA</th>\n",
       "      <th>NAME_SELLER_INDUSTRY</th>\n",
       "      <th>CNT_PAYMENT</th>\n",
       "      <th>NAME_YIELD_GROUP</th>\n",
       "      <th>PRODUCT_COMBINATION</th>\n",
       "      <th>DAYS_FIRST_DRAWING</th>\n",
       "      <th>DAYS_FIRST_DUE</th>\n",
       "      <th>DAYS_LAST_DUE_1ST_VERSION</th>\n",
       "      <th>DAYS_LAST_DUE</th>\n",
       "      <th>DAYS_TERMINATION</th>\n",
       "      <th>NFLAG_INSURED_ON_APPROVAL</th>\n",
       "    </tr>\n",
       "  </thead>\n",
       "  <tbody>\n",
       "    <tr>\n",
       "      <th>0</th>\n",
       "      <td>2030495</td>\n",
       "      <td>271877</td>\n",
       "      <td>Consumer loans</td>\n",
       "      <td>1730.43</td>\n",
       "      <td>17145.00</td>\n",
       "      <td>17145.00</td>\n",
       "      <td>17145.00</td>\n",
       "      <td>SATURDAY</td>\n",
       "      <td>15</td>\n",
       "      <td>Y</td>\n",
       "      <td>1</td>\n",
       "      <td>XAP</td>\n",
       "      <td>Approved</td>\n",
       "      <td>-73</td>\n",
       "      <td>Cash through the bank</td>\n",
       "      <td>XAP</td>\n",
       "      <td>Repeater</td>\n",
       "      <td>Mobile</td>\n",
       "      <td>POS</td>\n",
       "      <td>XNA</td>\n",
       "      <td>Country-wide</td>\n",
       "      <td>35</td>\n",
       "      <td>Connectivity</td>\n",
       "      <td>12.00</td>\n",
       "      <td>middle</td>\n",
       "      <td>POS mobile with interest</td>\n",
       "      <td>365243.00</td>\n",
       "      <td>-42.00</td>\n",
       "      <td>300.00</td>\n",
       "      <td>-42.00</td>\n",
       "      <td>-37.00</td>\n",
       "      <td>0.00</td>\n",
       "    </tr>\n",
       "    <tr>\n",
       "      <th>1</th>\n",
       "      <td>2802425</td>\n",
       "      <td>108129</td>\n",
       "      <td>Cash loans</td>\n",
       "      <td>25188.62</td>\n",
       "      <td>607500.00</td>\n",
       "      <td>679671.00</td>\n",
       "      <td>607500.00</td>\n",
       "      <td>THURSDAY</td>\n",
       "      <td>11</td>\n",
       "      <td>Y</td>\n",
       "      <td>1</td>\n",
       "      <td>XNA</td>\n",
       "      <td>Approved</td>\n",
       "      <td>-164</td>\n",
       "      <td>XNA</td>\n",
       "      <td>XAP</td>\n",
       "      <td>Repeater</td>\n",
       "      <td>XNA</td>\n",
       "      <td>Cash</td>\n",
       "      <td>x-sell</td>\n",
       "      <td>Contact center</td>\n",
       "      <td>-1</td>\n",
       "      <td>XNA</td>\n",
       "      <td>36.00</td>\n",
       "      <td>low_action</td>\n",
       "      <td>Cash X-Sell: low</td>\n",
       "      <td>365243.00</td>\n",
       "      <td>-134.00</td>\n",
       "      <td>916.00</td>\n",
       "      <td>365243.00</td>\n",
       "      <td>365243.00</td>\n",
       "      <td>1.00</td>\n",
       "    </tr>\n",
       "    <tr>\n",
       "      <th>2</th>\n",
       "      <td>2523466</td>\n",
       "      <td>122040</td>\n",
       "      <td>Cash loans</td>\n",
       "      <td>15060.74</td>\n",
       "      <td>112500.00</td>\n",
       "      <td>136444.50</td>\n",
       "      <td>112500.00</td>\n",
       "      <td>TUESDAY</td>\n",
       "      <td>11</td>\n",
       "      <td>Y</td>\n",
       "      <td>1</td>\n",
       "      <td>XNA</td>\n",
       "      <td>Approved</td>\n",
       "      <td>-301</td>\n",
       "      <td>Cash through the bank</td>\n",
       "      <td>XAP</td>\n",
       "      <td>Repeater</td>\n",
       "      <td>XNA</td>\n",
       "      <td>Cash</td>\n",
       "      <td>x-sell</td>\n",
       "      <td>Credit and cash offices</td>\n",
       "      <td>-1</td>\n",
       "      <td>XNA</td>\n",
       "      <td>12.00</td>\n",
       "      <td>high</td>\n",
       "      <td>Cash X-Sell: high</td>\n",
       "      <td>365243.00</td>\n",
       "      <td>-271.00</td>\n",
       "      <td>59.00</td>\n",
       "      <td>365243.00</td>\n",
       "      <td>365243.00</td>\n",
       "      <td>1.00</td>\n",
       "    </tr>\n",
       "    <tr>\n",
       "      <th>3</th>\n",
       "      <td>2819243</td>\n",
       "      <td>176158</td>\n",
       "      <td>Cash loans</td>\n",
       "      <td>47041.33</td>\n",
       "      <td>450000.00</td>\n",
       "      <td>470790.00</td>\n",
       "      <td>450000.00</td>\n",
       "      <td>MONDAY</td>\n",
       "      <td>7</td>\n",
       "      <td>Y</td>\n",
       "      <td>1</td>\n",
       "      <td>XNA</td>\n",
       "      <td>Approved</td>\n",
       "      <td>-512</td>\n",
       "      <td>Cash through the bank</td>\n",
       "      <td>XAP</td>\n",
       "      <td>Repeater</td>\n",
       "      <td>XNA</td>\n",
       "      <td>Cash</td>\n",
       "      <td>x-sell</td>\n",
       "      <td>Credit and cash offices</td>\n",
       "      <td>-1</td>\n",
       "      <td>XNA</td>\n",
       "      <td>12.00</td>\n",
       "      <td>middle</td>\n",
       "      <td>Cash X-Sell: middle</td>\n",
       "      <td>365243.00</td>\n",
       "      <td>-482.00</td>\n",
       "      <td>-152.00</td>\n",
       "      <td>-182.00</td>\n",
       "      <td>-177.00</td>\n",
       "      <td>1.00</td>\n",
       "    </tr>\n",
       "    <tr>\n",
       "      <th>4</th>\n",
       "      <td>1784265</td>\n",
       "      <td>202054</td>\n",
       "      <td>Cash loans</td>\n",
       "      <td>31924.40</td>\n",
       "      <td>337500.00</td>\n",
       "      <td>404055.00</td>\n",
       "      <td>337500.00</td>\n",
       "      <td>THURSDAY</td>\n",
       "      <td>9</td>\n",
       "      <td>Y</td>\n",
       "      <td>1</td>\n",
       "      <td>Repairs</td>\n",
       "      <td>Refused</td>\n",
       "      <td>-781</td>\n",
       "      <td>Cash through the bank</td>\n",
       "      <td>HC</td>\n",
       "      <td>Repeater</td>\n",
       "      <td>XNA</td>\n",
       "      <td>Cash</td>\n",
       "      <td>walk-in</td>\n",
       "      <td>Credit and cash offices</td>\n",
       "      <td>-1</td>\n",
       "      <td>XNA</td>\n",
       "      <td>24.00</td>\n",
       "      <td>high</td>\n",
       "      <td>Cash Street: high</td>\n",
       "      <td>nan</td>\n",
       "      <td>nan</td>\n",
       "      <td>nan</td>\n",
       "      <td>nan</td>\n",
       "      <td>nan</td>\n",
       "      <td>nan</td>\n",
       "    </tr>\n",
       "  </tbody>\n",
       "</table>\n",
       "</div>"
      ],
      "text/plain": [
       "   SK_ID_PREV  SK_ID_CURR NAME_CONTRACT_TYPE  AMT_ANNUITY  AMT_APPLICATION  \\\n",
       "0     2030495      271877     Consumer loans      1730.43         17145.00   \n",
       "1     2802425      108129         Cash loans     25188.62        607500.00   \n",
       "2     2523466      122040         Cash loans     15060.74        112500.00   \n",
       "3     2819243      176158         Cash loans     47041.33        450000.00   \n",
       "4     1784265      202054         Cash loans     31924.40        337500.00   \n",
       "\n",
       "   AMT_CREDIT  AMT_GOODS_PRICE WEEKDAY_APPR_PROCESS_START  \\\n",
       "0    17145.00         17145.00                   SATURDAY   \n",
       "1   679671.00        607500.00                   THURSDAY   \n",
       "2   136444.50        112500.00                    TUESDAY   \n",
       "3   470790.00        450000.00                     MONDAY   \n",
       "4   404055.00        337500.00                   THURSDAY   \n",
       "\n",
       "   HOUR_APPR_PROCESS_START FLAG_LAST_APPL_PER_CONTRACT  \\\n",
       "0                       15                           Y   \n",
       "1                       11                           Y   \n",
       "2                       11                           Y   \n",
       "3                        7                           Y   \n",
       "4                        9                           Y   \n",
       "\n",
       "   NFLAG_LAST_APPL_IN_DAY NAME_CASH_LOAN_PURPOSE NAME_CONTRACT_STATUS  \\\n",
       "0                       1                    XAP             Approved   \n",
       "1                       1                    XNA             Approved   \n",
       "2                       1                    XNA             Approved   \n",
       "3                       1                    XNA             Approved   \n",
       "4                       1                Repairs              Refused   \n",
       "\n",
       "   DAYS_DECISION      NAME_PAYMENT_TYPE CODE_REJECT_REASON NAME_CLIENT_TYPE  \\\n",
       "0            -73  Cash through the bank                XAP         Repeater   \n",
       "1           -164                    XNA                XAP         Repeater   \n",
       "2           -301  Cash through the bank                XAP         Repeater   \n",
       "3           -512  Cash through the bank                XAP         Repeater   \n",
       "4           -781  Cash through the bank                 HC         Repeater   \n",
       "\n",
       "  NAME_GOODS_CATEGORY NAME_PORTFOLIO NAME_PRODUCT_TYPE  \\\n",
       "0              Mobile            POS               XNA   \n",
       "1                 XNA           Cash            x-sell   \n",
       "2                 XNA           Cash            x-sell   \n",
       "3                 XNA           Cash            x-sell   \n",
       "4                 XNA           Cash           walk-in   \n",
       "\n",
       "              CHANNEL_TYPE  SELLERPLACE_AREA NAME_SELLER_INDUSTRY  \\\n",
       "0             Country-wide                35         Connectivity   \n",
       "1           Contact center                -1                  XNA   \n",
       "2  Credit and cash offices                -1                  XNA   \n",
       "3  Credit and cash offices                -1                  XNA   \n",
       "4  Credit and cash offices                -1                  XNA   \n",
       "\n",
       "   CNT_PAYMENT NAME_YIELD_GROUP       PRODUCT_COMBINATION  DAYS_FIRST_DRAWING  \\\n",
       "0        12.00           middle  POS mobile with interest           365243.00   \n",
       "1        36.00       low_action          Cash X-Sell: low           365243.00   \n",
       "2        12.00             high         Cash X-Sell: high           365243.00   \n",
       "3        12.00           middle       Cash X-Sell: middle           365243.00   \n",
       "4        24.00             high         Cash Street: high                 nan   \n",
       "\n",
       "   DAYS_FIRST_DUE  DAYS_LAST_DUE_1ST_VERSION  DAYS_LAST_DUE  DAYS_TERMINATION  \\\n",
       "0          -42.00                     300.00         -42.00            -37.00   \n",
       "1         -134.00                     916.00      365243.00         365243.00   \n",
       "2         -271.00                      59.00      365243.00         365243.00   \n",
       "3         -482.00                    -152.00        -182.00           -177.00   \n",
       "4             nan                        nan            nan               nan   \n",
       "\n",
       "   NFLAG_INSURED_ON_APPROVAL  \n",
       "0                       0.00  \n",
       "1                       1.00  \n",
       "2                       1.00  \n",
       "3                       1.00  \n",
       "4                        nan  "
      ]
     },
     "execution_count": 12,
     "metadata": {},
     "output_type": "execute_result"
    }
   ],
   "source": [
    "prev_app = prev_app.drop(list_to_drop,axis=1)\n",
    "prev_app.head()"
   ]
  },
  {
   "cell_type": "code",
   "execution_count": 13,
   "metadata": {},
   "outputs": [
    {
     "data": {
      "text/plain": [
       "(1670214, 32)"
      ]
     },
     "execution_count": 13,
     "metadata": {},
     "output_type": "execute_result"
    }
   ],
   "source": [
    "prev_app.shape"
   ]
  },
  {
   "cell_type": "code",
   "execution_count": 14,
   "metadata": {},
   "outputs": [
    {
     "data": {
      "text/plain": [
       "NFLAG_INSURED_ON_APPROVAL      673065\n",
       "DAYS_LAST_DUE                  673065\n",
       "DAYS_LAST_DUE_1ST_VERSION      673065\n",
       "DAYS_FIRST_DUE                 673065\n",
       "DAYS_FIRST_DRAWING             673065\n",
       "DAYS_TERMINATION               673065\n",
       "AMT_GOODS_PRICE                385515\n",
       "AMT_ANNUITY                    372235\n",
       "CNT_PAYMENT                    372230\n",
       "PRODUCT_COMBINATION               346\n",
       "AMT_CREDIT                          1\n",
       "WEEKDAY_APPR_PROCESS_START          0\n",
       "FLAG_LAST_APPL_PER_CONTRACT         0\n",
       "HOUR_APPR_PROCESS_START             0\n",
       "NAME_CONTRACT_TYPE                  0\n",
       "AMT_APPLICATION                     0\n",
       "NAME_CASH_LOAN_PURPOSE              0\n",
       "SK_ID_CURR                          0\n",
       "NFLAG_LAST_APPL_IN_DAY              0\n",
       "CODE_REJECT_REASON                  0\n",
       "NAME_CONTRACT_STATUS                0\n",
       "DAYS_DECISION                       0\n",
       "NAME_PAYMENT_TYPE                   0\n",
       "NAME_CLIENT_TYPE                    0\n",
       "NAME_GOODS_CATEGORY                 0\n",
       "NAME_PORTFOLIO                      0\n",
       "NAME_PRODUCT_TYPE                   0\n",
       "CHANNEL_TYPE                        0\n",
       "SELLERPLACE_AREA                    0\n",
       "NAME_SELLER_INDUSTRY                0\n",
       "NAME_YIELD_GROUP                    0\n",
       "SK_ID_PREV                          0\n",
       "dtype: int64"
      ]
     },
     "execution_count": 14,
     "metadata": {},
     "output_type": "execute_result"
    }
   ],
   "source": [
    "# Get the column-wise Null count using 'is.null()' alongwith the 'sum()' function\n",
    "prev_app.isnull().sum().sort_values(ascending=False)"
   ]
  },
  {
   "cell_type": "code",
   "execution_count": 15,
   "metadata": {},
   "outputs": [],
   "source": [
    "#prev_app = prev_app[prev_app.isnull().sum(axis=1) <= 5]\n",
    "#prev_app.isnull().sum().sort_values(ascending=False)"
   ]
  },
  {
   "cell_type": "code",
   "execution_count": 16,
   "metadata": {},
   "outputs": [],
   "source": [
    "#prev_app.shape"
   ]
  },
  {
   "cell_type": "code",
   "execution_count": 17,
   "metadata": {},
   "outputs": [],
   "source": [
    "#prev_app = prev_app.loc[prev_app['AMT_GOODS_PRICE'].isnull() !=True]"
   ]
  },
  {
   "cell_type": "code",
   "execution_count": 18,
   "metadata": {},
   "outputs": [],
   "source": [
    "#prev_app.shape"
   ]
  },
  {
   "cell_type": "code",
   "execution_count": 19,
   "metadata": {},
   "outputs": [],
   "source": [
    "#(prev_app.shape[0]/1670214)*100"
   ]
  },
  {
   "cell_type": "code",
   "execution_count": 20,
   "metadata": {},
   "outputs": [
    {
     "data": {
      "text/plain": [
       "40.29812946125467"
      ]
     },
     "execution_count": 20,
     "metadata": {},
     "output_type": "execute_result"
    }
   ],
   "source": [
    "100*(len(prev_app[prev_app.isnull().sum(axis=1) > 5].index) / len(prev_app.index))"
   ]
  },
  {
   "cell_type": "markdown",
   "metadata": {},
   "source": [
    "From above we can find that there are still many missing values for the columns such as NFLAG_INSURED_ON_APPROVAL,DAYS_LAST_DUE,DAYS_LAST_DUE_1ST_VERSION,DAYS_FIRST_DUE,DAYS_FIRST_DRAWING,DAYS_TERMINATION.\n",
    "Dropping the rows where these columns are having null values result in loss of too much of data. Some of this columns might also be helpful and hence not dropping the columns as well as dropping the rows. Also since imputing with standard measures can introduce a bias here and would be inappropriate, we can impute the missing values with 0."
   ]
  },
  {
   "cell_type": "code",
   "execution_count": 23,
   "metadata": {},
   "outputs": [],
   "source": [
    "prev_app.loc[pd.isnull(prev_app['NFLAG_INSURED_ON_APPROVAL']), ['NFLAG_INSURED_ON_APPROVAL']] = 0\n",
    "prev_app.loc[pd.isnull(prev_app['DAYS_LAST_DUE']), ['DAYS_LAST_DUE']] = 0\n",
    "prev_app.loc[pd.isnull(prev_app['DAYS_LAST_DUE_1ST_VERSION']), ['DAYS_LAST_DUE_1ST_VERSION']] = 0\n",
    "prev_app.loc[pd.isnull(prev_app['DAYS_FIRST_DUE']), ['DAYS_FIRST_DUE']] = 0\n",
    "prev_app.loc[pd.isnull(prev_app['DAYS_FIRST_DRAWING']), ['DAYS_FIRST_DRAWING']] = 0\n",
    "prev_app.loc[pd.isnull(prev_app['DAYS_TERMINATION']), ['DAYS_TERMINATION']] = 0\n",
    "prev_app.loc[pd.isnull(prev_app['AMT_GOODS_PRICE']), ['AMT_GOODS_PRICE']] = 0\n",
    "prev_app.loc[pd.isnull(prev_app['AMT_ANNUITY']), ['AMT_ANNUITY']] = 0\n",
    "prev_app.loc[pd.isnull(prev_app['CNT_PAYMENT']), ['CNT_PAYMENT']] = 0"
   ]
  },
  {
   "cell_type": "code",
   "execution_count": 24,
   "metadata": {},
   "outputs": [
    {
     "data": {
      "text/plain": [
       "PRODUCT_COMBINATION            346\n",
       "AMT_CREDIT                       1\n",
       "NFLAG_INSURED_ON_APPROVAL        0\n",
       "NAME_PAYMENT_TYPE                0\n",
       "SK_ID_CURR                       0\n",
       "NAME_CONTRACT_TYPE               0\n",
       "AMT_ANNUITY                      0\n",
       "AMT_APPLICATION                  0\n",
       "AMT_GOODS_PRICE                  0\n",
       "WEEKDAY_APPR_PROCESS_START       0\n",
       "HOUR_APPR_PROCESS_START          0\n",
       "FLAG_LAST_APPL_PER_CONTRACT      0\n",
       "NFLAG_LAST_APPL_IN_DAY           0\n",
       "NAME_CASH_LOAN_PURPOSE           0\n",
       "NAME_CONTRACT_STATUS             0\n",
       "DAYS_DECISION                    0\n",
       "CODE_REJECT_REASON               0\n",
       "DAYS_TERMINATION                 0\n",
       "NAME_CLIENT_TYPE                 0\n",
       "NAME_GOODS_CATEGORY              0\n",
       "NAME_PORTFOLIO                   0\n",
       "NAME_PRODUCT_TYPE                0\n",
       "CHANNEL_TYPE                     0\n",
       "SELLERPLACE_AREA                 0\n",
       "NAME_SELLER_INDUSTRY             0\n",
       "CNT_PAYMENT                      0\n",
       "NAME_YIELD_GROUP                 0\n",
       "DAYS_FIRST_DRAWING               0\n",
       "DAYS_FIRST_DUE                   0\n",
       "DAYS_LAST_DUE_1ST_VERSION        0\n",
       "DAYS_LAST_DUE                    0\n",
       "SK_ID_PREV                       0\n",
       "dtype: int64"
      ]
     },
     "execution_count": 24,
     "metadata": {},
     "output_type": "execute_result"
    }
   ],
   "source": [
    "prev_app.isnull().sum().sort_values(ascending=False)"
   ]
  },
  {
   "cell_type": "markdown",
   "metadata": {},
   "source": [
    "**Dataset Ready!!!!!**"
   ]
  },
  {
   "cell_type": "code",
   "execution_count": 29,
   "metadata": {},
   "outputs": [
    {
     "data": {
      "text/html": [
       "<div>\n",
       "<style scoped>\n",
       "    .dataframe tbody tr th:only-of-type {\n",
       "        vertical-align: middle;\n",
       "    }\n",
       "\n",
       "    .dataframe tbody tr th {\n",
       "        vertical-align: top;\n",
       "    }\n",
       "\n",
       "    .dataframe thead th {\n",
       "        text-align: right;\n",
       "    }\n",
       "</style>\n",
       "<table border=\"1\" class=\"dataframe\">\n",
       "  <thead>\n",
       "    <tr style=\"text-align: right;\">\n",
       "      <th></th>\n",
       "      <th>SK_ID_PREV</th>\n",
       "      <th>SK_ID_CURR</th>\n",
       "      <th>NAME_CONTRACT_TYPE</th>\n",
       "      <th>AMT_ANNUITY</th>\n",
       "      <th>AMT_APPLICATION</th>\n",
       "      <th>AMT_CREDIT</th>\n",
       "      <th>AMT_GOODS_PRICE</th>\n",
       "      <th>WEEKDAY_APPR_PROCESS_START</th>\n",
       "      <th>HOUR_APPR_PROCESS_START</th>\n",
       "      <th>FLAG_LAST_APPL_PER_CONTRACT</th>\n",
       "      <th>NFLAG_LAST_APPL_IN_DAY</th>\n",
       "      <th>NAME_CASH_LOAN_PURPOSE</th>\n",
       "      <th>NAME_CONTRACT_STATUS</th>\n",
       "      <th>DAYS_DECISION</th>\n",
       "      <th>NAME_PAYMENT_TYPE</th>\n",
       "      <th>CODE_REJECT_REASON</th>\n",
       "      <th>NAME_CLIENT_TYPE</th>\n",
       "      <th>NAME_GOODS_CATEGORY</th>\n",
       "      <th>NAME_PORTFOLIO</th>\n",
       "      <th>NAME_PRODUCT_TYPE</th>\n",
       "      <th>CHANNEL_TYPE</th>\n",
       "      <th>SELLERPLACE_AREA</th>\n",
       "      <th>NAME_SELLER_INDUSTRY</th>\n",
       "      <th>CNT_PAYMENT</th>\n",
       "      <th>NAME_YIELD_GROUP</th>\n",
       "      <th>PRODUCT_COMBINATION</th>\n",
       "      <th>DAYS_FIRST_DRAWING</th>\n",
       "      <th>DAYS_FIRST_DUE</th>\n",
       "      <th>DAYS_LAST_DUE_1ST_VERSION</th>\n",
       "      <th>DAYS_LAST_DUE</th>\n",
       "      <th>DAYS_TERMINATION</th>\n",
       "      <th>NFLAG_INSURED_ON_APPROVAL</th>\n",
       "    </tr>\n",
       "  </thead>\n",
       "  <tbody>\n",
       "    <tr>\n",
       "      <th>0</th>\n",
       "      <td>2030495</td>\n",
       "      <td>271877</td>\n",
       "      <td>Consumer loans</td>\n",
       "      <td>1730.43</td>\n",
       "      <td>17145.00</td>\n",
       "      <td>17145.00</td>\n",
       "      <td>17145.00</td>\n",
       "      <td>SATURDAY</td>\n",
       "      <td>15</td>\n",
       "      <td>Y</td>\n",
       "      <td>1</td>\n",
       "      <td>XAP</td>\n",
       "      <td>Approved</td>\n",
       "      <td>-73</td>\n",
       "      <td>Cash through the bank</td>\n",
       "      <td>XAP</td>\n",
       "      <td>Repeater</td>\n",
       "      <td>Mobile</td>\n",
       "      <td>POS</td>\n",
       "      <td>XNA</td>\n",
       "      <td>Country-wide</td>\n",
       "      <td>35</td>\n",
       "      <td>Connectivity</td>\n",
       "      <td>12.00</td>\n",
       "      <td>middle</td>\n",
       "      <td>POS mobile with interest</td>\n",
       "      <td>365243.00</td>\n",
       "      <td>-42.00</td>\n",
       "      <td>300.00</td>\n",
       "      <td>-42.00</td>\n",
       "      <td>-37.00</td>\n",
       "      <td>0.00</td>\n",
       "    </tr>\n",
       "    <tr>\n",
       "      <th>1</th>\n",
       "      <td>2802425</td>\n",
       "      <td>108129</td>\n",
       "      <td>Cash loans</td>\n",
       "      <td>25188.62</td>\n",
       "      <td>607500.00</td>\n",
       "      <td>679671.00</td>\n",
       "      <td>607500.00</td>\n",
       "      <td>THURSDAY</td>\n",
       "      <td>11</td>\n",
       "      <td>Y</td>\n",
       "      <td>1</td>\n",
       "      <td>XNA</td>\n",
       "      <td>Approved</td>\n",
       "      <td>-164</td>\n",
       "      <td>XNA</td>\n",
       "      <td>XAP</td>\n",
       "      <td>Repeater</td>\n",
       "      <td>XNA</td>\n",
       "      <td>Cash</td>\n",
       "      <td>x-sell</td>\n",
       "      <td>Contact center</td>\n",
       "      <td>-1</td>\n",
       "      <td>XNA</td>\n",
       "      <td>36.00</td>\n",
       "      <td>low_action</td>\n",
       "      <td>Cash X-Sell: low</td>\n",
       "      <td>365243.00</td>\n",
       "      <td>-134.00</td>\n",
       "      <td>916.00</td>\n",
       "      <td>365243.00</td>\n",
       "      <td>365243.00</td>\n",
       "      <td>1.00</td>\n",
       "    </tr>\n",
       "    <tr>\n",
       "      <th>2</th>\n",
       "      <td>2523466</td>\n",
       "      <td>122040</td>\n",
       "      <td>Cash loans</td>\n",
       "      <td>15060.74</td>\n",
       "      <td>112500.00</td>\n",
       "      <td>136444.50</td>\n",
       "      <td>112500.00</td>\n",
       "      <td>TUESDAY</td>\n",
       "      <td>11</td>\n",
       "      <td>Y</td>\n",
       "      <td>1</td>\n",
       "      <td>XNA</td>\n",
       "      <td>Approved</td>\n",
       "      <td>-301</td>\n",
       "      <td>Cash through the bank</td>\n",
       "      <td>XAP</td>\n",
       "      <td>Repeater</td>\n",
       "      <td>XNA</td>\n",
       "      <td>Cash</td>\n",
       "      <td>x-sell</td>\n",
       "      <td>Credit and cash offices</td>\n",
       "      <td>-1</td>\n",
       "      <td>XNA</td>\n",
       "      <td>12.00</td>\n",
       "      <td>high</td>\n",
       "      <td>Cash X-Sell: high</td>\n",
       "      <td>365243.00</td>\n",
       "      <td>-271.00</td>\n",
       "      <td>59.00</td>\n",
       "      <td>365243.00</td>\n",
       "      <td>365243.00</td>\n",
       "      <td>1.00</td>\n",
       "    </tr>\n",
       "    <tr>\n",
       "      <th>3</th>\n",
       "      <td>2819243</td>\n",
       "      <td>176158</td>\n",
       "      <td>Cash loans</td>\n",
       "      <td>47041.33</td>\n",
       "      <td>450000.00</td>\n",
       "      <td>470790.00</td>\n",
       "      <td>450000.00</td>\n",
       "      <td>MONDAY</td>\n",
       "      <td>7</td>\n",
       "      <td>Y</td>\n",
       "      <td>1</td>\n",
       "      <td>XNA</td>\n",
       "      <td>Approved</td>\n",
       "      <td>-512</td>\n",
       "      <td>Cash through the bank</td>\n",
       "      <td>XAP</td>\n",
       "      <td>Repeater</td>\n",
       "      <td>XNA</td>\n",
       "      <td>Cash</td>\n",
       "      <td>x-sell</td>\n",
       "      <td>Credit and cash offices</td>\n",
       "      <td>-1</td>\n",
       "      <td>XNA</td>\n",
       "      <td>12.00</td>\n",
       "      <td>middle</td>\n",
       "      <td>Cash X-Sell: middle</td>\n",
       "      <td>365243.00</td>\n",
       "      <td>-482.00</td>\n",
       "      <td>-152.00</td>\n",
       "      <td>-182.00</td>\n",
       "      <td>-177.00</td>\n",
       "      <td>1.00</td>\n",
       "    </tr>\n",
       "    <tr>\n",
       "      <th>4</th>\n",
       "      <td>1784265</td>\n",
       "      <td>202054</td>\n",
       "      <td>Cash loans</td>\n",
       "      <td>31924.40</td>\n",
       "      <td>337500.00</td>\n",
       "      <td>404055.00</td>\n",
       "      <td>337500.00</td>\n",
       "      <td>THURSDAY</td>\n",
       "      <td>9</td>\n",
       "      <td>Y</td>\n",
       "      <td>1</td>\n",
       "      <td>Repairs</td>\n",
       "      <td>Refused</td>\n",
       "      <td>-781</td>\n",
       "      <td>Cash through the bank</td>\n",
       "      <td>HC</td>\n",
       "      <td>Repeater</td>\n",
       "      <td>XNA</td>\n",
       "      <td>Cash</td>\n",
       "      <td>walk-in</td>\n",
       "      <td>Credit and cash offices</td>\n",
       "      <td>-1</td>\n",
       "      <td>XNA</td>\n",
       "      <td>24.00</td>\n",
       "      <td>high</td>\n",
       "      <td>Cash Street: high</td>\n",
       "      <td>0.00</td>\n",
       "      <td>0.00</td>\n",
       "      <td>0.00</td>\n",
       "      <td>0.00</td>\n",
       "      <td>0.00</td>\n",
       "      <td>0.00</td>\n",
       "    </tr>\n",
       "  </tbody>\n",
       "</table>\n",
       "</div>"
      ],
      "text/plain": [
       "   SK_ID_PREV  SK_ID_CURR NAME_CONTRACT_TYPE  AMT_ANNUITY  AMT_APPLICATION  \\\n",
       "0     2030495      271877     Consumer loans      1730.43         17145.00   \n",
       "1     2802425      108129         Cash loans     25188.62        607500.00   \n",
       "2     2523466      122040         Cash loans     15060.74        112500.00   \n",
       "3     2819243      176158         Cash loans     47041.33        450000.00   \n",
       "4     1784265      202054         Cash loans     31924.40        337500.00   \n",
       "\n",
       "   AMT_CREDIT  AMT_GOODS_PRICE WEEKDAY_APPR_PROCESS_START  \\\n",
       "0    17145.00         17145.00                   SATURDAY   \n",
       "1   679671.00        607500.00                   THURSDAY   \n",
       "2   136444.50        112500.00                    TUESDAY   \n",
       "3   470790.00        450000.00                     MONDAY   \n",
       "4   404055.00        337500.00                   THURSDAY   \n",
       "\n",
       "   HOUR_APPR_PROCESS_START FLAG_LAST_APPL_PER_CONTRACT  \\\n",
       "0                       15                           Y   \n",
       "1                       11                           Y   \n",
       "2                       11                           Y   \n",
       "3                        7                           Y   \n",
       "4                        9                           Y   \n",
       "\n",
       "   NFLAG_LAST_APPL_IN_DAY NAME_CASH_LOAN_PURPOSE NAME_CONTRACT_STATUS  \\\n",
       "0                       1                    XAP             Approved   \n",
       "1                       1                    XNA             Approved   \n",
       "2                       1                    XNA             Approved   \n",
       "3                       1                    XNA             Approved   \n",
       "4                       1                Repairs              Refused   \n",
       "\n",
       "   DAYS_DECISION      NAME_PAYMENT_TYPE CODE_REJECT_REASON NAME_CLIENT_TYPE  \\\n",
       "0            -73  Cash through the bank                XAP         Repeater   \n",
       "1           -164                    XNA                XAP         Repeater   \n",
       "2           -301  Cash through the bank                XAP         Repeater   \n",
       "3           -512  Cash through the bank                XAP         Repeater   \n",
       "4           -781  Cash through the bank                 HC         Repeater   \n",
       "\n",
       "  NAME_GOODS_CATEGORY NAME_PORTFOLIO NAME_PRODUCT_TYPE  \\\n",
       "0              Mobile            POS               XNA   \n",
       "1                 XNA           Cash            x-sell   \n",
       "2                 XNA           Cash            x-sell   \n",
       "3                 XNA           Cash            x-sell   \n",
       "4                 XNA           Cash           walk-in   \n",
       "\n",
       "              CHANNEL_TYPE  SELLERPLACE_AREA NAME_SELLER_INDUSTRY  \\\n",
       "0             Country-wide                35         Connectivity   \n",
       "1           Contact center                -1                  XNA   \n",
       "2  Credit and cash offices                -1                  XNA   \n",
       "3  Credit and cash offices                -1                  XNA   \n",
       "4  Credit and cash offices                -1                  XNA   \n",
       "\n",
       "   CNT_PAYMENT NAME_YIELD_GROUP       PRODUCT_COMBINATION  DAYS_FIRST_DRAWING  \\\n",
       "0        12.00           middle  POS mobile with interest           365243.00   \n",
       "1        36.00       low_action          Cash X-Sell: low           365243.00   \n",
       "2        12.00             high         Cash X-Sell: high           365243.00   \n",
       "3        12.00           middle       Cash X-Sell: middle           365243.00   \n",
       "4        24.00             high         Cash Street: high                0.00   \n",
       "\n",
       "   DAYS_FIRST_DUE  DAYS_LAST_DUE_1ST_VERSION  DAYS_LAST_DUE  DAYS_TERMINATION  \\\n",
       "0          -42.00                     300.00         -42.00            -37.00   \n",
       "1         -134.00                     916.00      365243.00         365243.00   \n",
       "2         -271.00                      59.00      365243.00         365243.00   \n",
       "3         -482.00                    -152.00        -182.00           -177.00   \n",
       "4            0.00                       0.00           0.00              0.00   \n",
       "\n",
       "   NFLAG_INSURED_ON_APPROVAL  \n",
       "0                       0.00  \n",
       "1                       1.00  \n",
       "2                       1.00  \n",
       "3                       1.00  \n",
       "4                       0.00  "
      ]
     },
     "execution_count": 29,
     "metadata": {},
     "output_type": "execute_result"
    }
   ],
   "source": [
    "prev_app.head()"
   ]
  },
  {
   "cell_type": "code",
   "execution_count": 30,
   "metadata": {},
   "outputs": [
    {
     "data": {
      "text/plain": [
       "array(['Consumer loans', 'Cash loans', 'Revolving loans', 'XNA'],\n",
       "      dtype=object)"
      ]
     },
     "execution_count": 30,
     "metadata": {},
     "output_type": "execute_result"
    }
   ],
   "source": [
    "prev_app['NAME_CONTRACT_TYPE'].unique() "
   ]
  },
  {
   "cell_type": "markdown",
   "metadata": {},
   "source": [
    "So different Loan types include-\n",
    "-  Consumer Loans\n",
    "-  Cash Loans\n",
    "-  Revolving Loans"
   ]
  },
  {
   "cell_type": "code",
   "execution_count": 32,
   "metadata": {},
   "outputs": [
    {
     "data": {
      "text/plain": [
       "array(['middle', 'low_action', 'high', 'low_normal', 'XNA'], dtype=object)"
      ]
     },
     "execution_count": 32,
     "metadata": {},
     "output_type": "execute_result"
    }
   ],
   "source": [
    "#Different Interest Rate groups present in the dataset\n",
    "prev_app['NAME_YIELD_GROUP'].unique()"
   ]
  },
  {
   "cell_type": "code",
   "execution_count": 33,
   "metadata": {},
   "outputs": [
    {
     "data": {
      "image/png": "[encoded data removed]",
      "text/plain": [
       "<Figure size 432x288 with 1 Axes>"
      ]
     },
     "metadata": {
      "needs_background": "light"
     },
     "output_type": "display_data"
    }
   ],
   "source": [
    "from collections import Counter\n",
    "count_group=Counter(prev_app['NAME_YIELD_GROUP'])\n",
    "count_df = pd.DataFrame.from_dict(count_group, orient='index')\n",
    "count_df.plot(kind='bar',legend=False)\n",
    "plt.show()"
   ]
  },
  {
   "cell_type": "markdown",
   "metadata": {},
   "source": [
    "Ignoring the XNA category values, we can find Interest rate groups are usually high or in middle category. Low-action Interest rate group is less."
   ]
  },
  {
   "cell_type": "markdown",
   "metadata": {},
   "source": [
    "Density Plot for the application amount as requested by the client and the Credited amount as for the requested application"
   ]
  },
  {
   "cell_type": "code",
   "execution_count": 46,
   "metadata": {},
   "outputs": [
    {
     "data": {
      "image/png": "[encoded data removed]",
      "text/plain": [
       "<Figure size 720x360 with 1 Axes>"
      ]
     },
     "metadata": {
      "needs_background": "light"
     },
     "output_type": "display_data"
    }
   ],
   "source": [
    "plt.figure(figsize = (10,5))\n",
    "plt.title('Application Amount and Amount Credit Match- Density Plot')\n",
    "sns.set_color_codes(\"pastel\")\n",
    "sns.distplot(prev_app['AMT_APPLICATION'],kde=True,bins=200, color=\"red\")\n",
    "sns.distplot(prev_app['AMT_CREDIT'],kde=True,bins=200, color=\"green\")\n",
    "plt.show()"
   ]
  },
  {
   "cell_type": "code",
   "execution_count": 42,
   "metadata": {},
   "outputs": [
    {
     "data": {
      "image/png": "[encoded data removed]",
      "text/plain": [
       "<Figure size 1008x432 with 1 Axes>"
      ]
     },
     "metadata": {
      "needs_background": "light"
     },
     "output_type": "display_data"
    }
   ],
   "source": [
    "plt.figure(figsize = (14,6))\n",
    "plt.title('Amount Credited- Density Plot')\n",
    "sns.set_color_codes(\"pastel\")\n",
    "sns.distplot(prev_app['AMT_CREDIT'],kde=True,bins=200, color=\"blue\")\n",
    "plt.show()"
   ]
  },
  {
   "cell_type": "code",
   "execution_count": 48,
   "metadata": {},
   "outputs": [
    {
     "data": {
      "image/png": "[encoded data removed]",
      "text/plain": [
       "<Figure size 432x432 with 1 Axes>"
      ]
     },
     "metadata": {
      "needs_background": "light"
     },
     "output_type": "display_data"
    }
   ],
   "source": [
    "temp = prev_app[\"NAME_CONTRACT_TYPE\"].value_counts()\n",
    "df2 = pd.DataFrame({'NAME_CONTRACT_TYPE': temp.index,'Values': temp.values})\n",
    "plt.figure(figsize = (6,6))\n",
    "#plt.title('Data Imbalance\\n (Client with Payment difficulties=1,All others=0)')\n",
    "sns.barplot(x = 'NAME_CONTRACT_TYPE', y=\"Values\", data=df2)\n",
    "locs, labels = plt.xticks()\n",
    "plt.show()"
   ]
  },
  {
   "cell_type": "code",
   "execution_count": 49,
   "metadata": {},
   "outputs": [
    {
     "data": {
      "text/html": [
       "<div>\n",
       "<style scoped>\n",
       "    .dataframe tbody tr th:only-of-type {\n",
       "        vertical-align: middle;\n",
       "    }\n",
       "\n",
       "    .dataframe tbody tr th {\n",
       "        vertical-align: top;\n",
       "    }\n",
       "\n",
       "    .dataframe thead th {\n",
       "        text-align: right;\n",
       "    }\n",
       "</style>\n",
       "<table border=\"1\" class=\"dataframe\">\n",
       "  <thead>\n",
       "    <tr style=\"text-align: right;\">\n",
       "      <th></th>\n",
       "      <th>AMT_ANNUITY</th>\n",
       "      <th>AMT_APPLICATION</th>\n",
       "      <th>AMT_CREDIT</th>\n",
       "      <th>AMT_GOODS_PRICE</th>\n",
       "    </tr>\n",
       "  </thead>\n",
       "  <tbody>\n",
       "    <tr>\n",
       "      <th>AMT_ANNUITY</th>\n",
       "      <td>1.00</td>\n",
       "      <td>0.82</td>\n",
       "      <td>0.83</td>\n",
       "      <td>0.82</td>\n",
       "    </tr>\n",
       "    <tr>\n",
       "      <th>AMT_APPLICATION</th>\n",
       "      <td>0.82</td>\n",
       "      <td>1.00</td>\n",
       "      <td>0.98</td>\n",
       "      <td>1.00</td>\n",
       "    </tr>\n",
       "    <tr>\n",
       "      <th>AMT_CREDIT</th>\n",
       "      <td>0.83</td>\n",
       "      <td>0.98</td>\n",
       "      <td>1.00</td>\n",
       "      <td>0.98</td>\n",
       "    </tr>\n",
       "    <tr>\n",
       "      <th>AMT_GOODS_PRICE</th>\n",
       "      <td>0.82</td>\n",
       "      <td>1.00</td>\n",
       "      <td>0.98</td>\n",
       "      <td>1.00</td>\n",
       "    </tr>\n",
       "  </tbody>\n",
       "</table>\n",
       "</div>"
      ],
      "text/plain": [
       "                 AMT_ANNUITY  AMT_APPLICATION  AMT_CREDIT  AMT_GOODS_PRICE\n",
       "AMT_ANNUITY             1.00             0.82        0.83             0.82\n",
       "AMT_APPLICATION         0.82             1.00        0.98             1.00\n",
       "AMT_CREDIT              0.83             0.98        1.00             0.98\n",
       "AMT_GOODS_PRICE         0.82             1.00        0.98             1.00"
      ]
     },
     "execution_count": 49,
     "metadata": {},
     "output_type": "execute_result"
    }
   ],
   "source": [
    "curr = prev_app[[\"AMT_ANNUITY\", \"AMT_APPLICATION\",\"AMT_CREDIT\",\"AMT_GOODS_PRICE\"]]\n",
    "cor = curr.corr()\n",
    "round(cor, 3)"
   ]
  },
  {
   "cell_type": "code",
   "execution_count": 50,
   "metadata": {},
   "outputs": [
    {
     "data": {
      "image/png": "[encoded data removed]",
      "text/plain": [
       "<Figure size 432x288 with 2 Axes>"
      ]
     },
     "metadata": {
      "needs_background": "light"
     },
     "output_type": "display_data"
    }
   ],
   "source": [
    "sns.heatmap(cor,annot=True)\n",
    "plt.show()"
   ]
  },
  {
   "cell_type": "markdown",
   "metadata": {},
   "source": [
    "As expected, the Goods Price Amount,Amount Annuity,Application Amount and the Credit Amount are all highly correlated with each there. There is no exception found from the above Heat map."
   ]
  },
  {
   "cell_type": "code",
   "execution_count": 51,
   "metadata": {},
   "outputs": [
    {
     "data": {
      "image/png": "[encoded data removed]",
      "text/plain": [
       "<Figure size 432x288 with 1 Axes>"
      ]
     },
     "metadata": {
      "needs_background": "light"
     },
     "output_type": "display_data"
    }
   ],
   "source": [
    "from collections import Counter\n",
    "count_group=Counter(prev_app['NAME_CONTRACT_STATUS'])\n",
    "count_df = pd.DataFrame.from_dict(count_group, orient='index')\n",
    "count_df.plot(kind='bar',legend=False)\n",
    "plt.show()"
   ]
  },
  {
   "cell_type": "code",
   "execution_count": 52,
   "metadata": {},
   "outputs": [],
   "source": [
    "prev_app_refused = prev_app.loc[prev_app['NAME_CONTRACT_STATUS'] == 'Refused']"
   ]
  },
  {
   "cell_type": "code",
   "execution_count": 54,
   "metadata": {},
   "outputs": [
    {
     "data": {
      "text/plain": [
       "290678"
      ]
     },
     "execution_count": 54,
     "metadata": {},
     "output_type": "execute_result"
    }
   ],
   "source": [
    "prev_app_refused.shape[0]"
   ]
  },
  {
   "cell_type": "markdown",
   "metadata": {},
   "source": [
    "Hence 2.9 Lakh of the client applications where refused by the company for Loan out of the 16.7 Lakh applications recieved."
   ]
  },
  {
   "cell_type": "code",
   "execution_count": 57,
   "metadata": {},
   "outputs": [
    {
     "data": {
      "image/png": "[encoded data removed]",
      "text/plain": [
       "<Figure size 720x360 with 1 Axes>"
      ]
     },
     "metadata": {
      "needs_background": "light"
     },
     "output_type": "display_data"
    }
   ],
   "source": [
    "plt.figure(figsize = (10,5))\n",
    "plt.title('Application Amount Requested by the Refused applcants- Density Plot')\n",
    "sns.set_color_codes(\"pastel\")\n",
    "sns.distplot(prev_app_refused['AMT_APPLICATION'],kde=True,bins=200, color=\"red\")\n",
    "plt.show()"
   ]
  },
  {
   "cell_type": "code",
   "execution_count": 58,
   "metadata": {},
   "outputs": [
    {
     "data": {
      "image/png": "[encoded data removed]",
      "text/plain": [
       "<Figure size 432x288 with 1 Axes>"
      ]
     },
     "metadata": {
      "needs_background": "light"
     },
     "output_type": "display_data"
    }
   ],
   "source": [
    "from collections import Counter\n",
    "count_group=Counter(prev_app_refused['CODE_REJECT_REASON'])\n",
    "count_df = pd.DataFrame.from_dict(count_group, orient='index')\n",
    "count_df.plot(kind='bar',legend=False)\n",
    "plt.show()"
   ]
  },
  {
   "cell_type": "markdown",
   "metadata": {},
   "source": [
    "From the Rejected appplicants, the Reject Reason for most of the applicants is HC and LIMIT."
   ]
  },
  {
   "cell_type": "code",
   "execution_count": 59,
   "metadata": {},
   "outputs": [
    {
     "data": {
      "image/png": "[encoded data removed]",
      "text/plain": [
       "<Figure size 432x288 with 1 Axes>"
      ]
     },
     "metadata": {
      "needs_background": "light"
     },
     "output_type": "display_data"
    }
   ],
   "source": [
    "from collections import Counter\n",
    "count_group=Counter(prev_app['NAME_CASH_LOAN_PURPOSE'])\n",
    "count_df = pd.DataFrame.from_dict(count_group, orient='index')\n",
    "count_df.plot(kind='bar',legend=False)\n",
    "plt.show()"
   ]
  },
  {
   "cell_type": "code",
   "execution_count": 60,
   "metadata": {},
   "outputs": [
    {
     "data": {
      "text/plain": [
       "array(['Country-wide', 'Contact center', 'Credit and cash offices',\n",
       "       'Stone', 'Regional / Local', 'AP+ (Cash loan)',\n",
       "       'Channel of corporate sales', 'Car dealer'], dtype=object)"
      ]
     },
     "execution_count": 60,
     "metadata": {},
     "output_type": "execute_result"
    }
   ],
   "source": [
    "prev_app['CHANNEL_TYPE'].unique()"
   ]
  },
  {
   "cell_type": "markdown",
   "metadata": {},
   "source": [
    "### OUTLIER DETECTION"
   ]
  },
  {
   "cell_type": "code",
   "execution_count": 1,
   "metadata": {},
   "outputs": [
    {
     "ename": "NameError",
     "evalue": "name 'plt' is not defined",
     "output_type": "error",
     "traceback": [
      "\u001b[1;31m---------------------------------------------------------------------------\u001b[0m",
      "\u001b[1;31mNameError\u001b[0m                                 Traceback (most recent call last)",
      "\u001b[1;32m<ipython-input-1-00e8e80a46fe>\u001b[0m in \u001b[0;36m<module>\u001b[1;34m\u001b[0m\n\u001b[1;32m----> 1\u001b[1;33m \u001b[0mplt\u001b[0m\u001b[1;33m.\u001b[0m\u001b[0mfigure\u001b[0m\u001b[1;33m(\u001b[0m\u001b[0mfigsize\u001b[0m\u001b[1;33m=\u001b[0m\u001b[1;33m(\u001b[0m\u001b[1;36m6\u001b[0m\u001b[1;33m,\u001b[0m\u001b[1;36m6\u001b[0m\u001b[1;33m)\u001b[0m\u001b[1;33m)\u001b[0m\u001b[1;33m\u001b[0m\u001b[1;33m\u001b[0m\u001b[0m\n\u001b[0m\u001b[0;32m      2\u001b[0m \u001b[0msns\u001b[0m\u001b[1;33m.\u001b[0m\u001b[0mboxplot\u001b[0m\u001b[1;33m(\u001b[0m\u001b[0my\u001b[0m\u001b[1;33m=\u001b[0m\u001b[1;34m'AMT_APPLICATION'\u001b[0m\u001b[1;33m,\u001b[0m\u001b[0mdata\u001b[0m\u001b[1;33m=\u001b[0m\u001b[0mprev_app\u001b[0m\u001b[1;33m)\u001b[0m\u001b[1;33m\u001b[0m\u001b[1;33m\u001b[0m\u001b[0m\n\u001b[0;32m      3\u001b[0m \u001b[1;31m#plt.yscale('log')\u001b[0m\u001b[1;33m\u001b[0m\u001b[1;33m\u001b[0m\u001b[1;33m\u001b[0m\u001b[0m\n\u001b[0;32m      4\u001b[0m \u001b[0mplt\u001b[0m\u001b[1;33m.\u001b[0m\u001b[0mshow\u001b[0m\u001b[1;33m(\u001b[0m\u001b[1;33m)\u001b[0m\u001b[1;33m\u001b[0m\u001b[1;33m\u001b[0m\u001b[0m\n",
      "\u001b[1;31mNameError\u001b[0m: name 'plt' is not defined"
     ]
    }
   ],
   "source": [
    "plt.figure(figsize=(6,6))\n",
    "sns.boxplot(y='AMT_APPLICATION',data=prev_app)\n",
    "#plt.yscale('log')\n",
    "plt.show()"
   ]
  },
  {
   "cell_type": "markdown",
   "metadata": {},
   "source": [
    "From the above Boxplot we can find many outliers are present with respect to the Application amount requested by the client, with one application standing out with almost 70Lakh as requested amount. Also it is clear that a major part of the Requested amounts are actually maybe less than 5Lakhs."
   ]
  },
  {
   "cell_type": "code",
   "execution_count": 68,
   "metadata": {},
   "outputs": [
    {
     "data": {
      "text/plain": [
       "(5900, 32)"
      ]
     },
     "execution_count": 68,
     "metadata": {},
     "output_type": "execute_result"
    }
   ],
   "source": [
    "prev_app.loc[prev_app['NFLAG_LAST_APPL_IN_DAY'] != 1].shape"
   ]
  },
  {
   "cell_type": "code",
   "execution_count": 71,
   "metadata": {},
   "outputs": [
    {
     "data": {
      "image/png": "[encoded data removed]",
      "text/plain": [
       "<Figure size 720x360 with 1 Axes>"
      ]
     },
     "metadata": {
      "needs_background": "light"
     },
     "output_type": "display_data"
    }
   ],
   "source": [
    "plt.figure(figsize = (10,5))\n",
    "plt.title('Relative to current application when was the decision about previous application made')\n",
    "sns.set_color_codes(\"pastel\")\n",
    "sns.distplot(prev_app_refused['DAYS_DECISION'],kde=True,bins=200, color=\"red\")\n",
    "plt.show()"
   ]
  },
  {
   "cell_type": "markdown",
   "metadata": {},
   "source": [
    "From the above Plot we can find that most of the current applicants whose previous application was rejected as reapplied for a Loan within a minimum of 500 days and many number of poeple have reapplied the day their previous application was rejeted itself."
   ]
  },
  {
   "cell_type": "markdown",
   "metadata": {},
   "source": [
    "Days Decision can be taken as an important category while lending out loans for the applicants."
   ]
  },
  {
   "cell_type": "code",
   "execution_count": 76,
   "metadata": {},
   "outputs": [],
   "source": [
    "refused_days_less_thanyear = prev_app_refused.loc[prev_app_refused['DAYS_DECISION'] >= -100]"
   ]
  },
  {
   "cell_type": "code",
   "execution_count": 78,
   "metadata": {},
   "outputs": [
    {
     "data": {
      "image/png": "[encoded data removed]",
      "text/plain": [
       "<Figure size 720x360 with 1 Axes>"
      ]
     },
     "metadata": {
      "needs_background": "light"
     },
     "output_type": "display_data"
    }
   ],
   "source": [
    "plt.figure(figsize = (10,5))\n",
    "plt.title('Applicants whose loan has been rejected who has reapplied for loan within 100 days-density plot')\n",
    "sns.set_color_codes(\"pastel\")\n",
    "sns.distplot(refused_days_less_thanyear['DAYS_DECISION'],kde=True,bins=200, color=\"red\")\n",
    "plt.show()"
   ]
  },
  {
   "cell_type": "code",
   "execution_count": 79,
   "metadata": {},
   "outputs": [
    {
     "data": {
      "text/plain": [
       "499887.0282279902"
      ]
     },
     "execution_count": 79,
     "metadata": {},
     "output_type": "execute_result"
    }
   ],
   "source": [
    "refused_days_less_thanyear['AMT_APPLICATION'].mean()"
   ]
  },
  {
   "cell_type": "code",
   "execution_count": 80,
   "metadata": {},
   "outputs": [
    {
     "data": {
      "text/plain": [
       "array(['Building a house or an annex', 'XNA', 'XAP', 'Repairs',\n",
       "       'Payments on other loans', 'Education', 'Buying a used car',\n",
       "       'Buying a new car', 'Buying a holiday home / land', 'Furniture',\n",
       "       'Buying a home', 'Purchase of electronic equipment', 'Other',\n",
       "       'Medicine', 'Wedding / gift / holiday', 'Urgent needs', 'Journey',\n",
       "       'Car repairs', 'Everyday expenses', 'Hobby',\n",
       "       'Gasification / water supply', 'Business development',\n",
       "       'Buying a garage'], dtype=object)"
      ]
     },
     "execution_count": 80,
     "metadata": {},
     "output_type": "execute_result"
    }
   ],
   "source": [
    "refused_days_less_thanyear['NAME_CASH_LOAN_PURPOSE'].unique()"
   ]
  },
  {
   "cell_type": "code",
   "execution_count": 81,
   "metadata": {},
   "outputs": [
    {
     "data": {
      "image/png": "[encoded data removed]",
      "text/plain": [
       "<Figure size 432x288 with 1 Axes>"
      ]
     },
     "metadata": {
      "needs_background": "light"
     },
     "output_type": "display_data"
    }
   ],
   "source": [
    "from collections import Counter\n",
    "count_refused=Counter(refused_days_less_thanyear['NAME_CASH_LOAN_PURPOSE'])\n",
    "count_df1 = pd.DataFrame.from_dict(count_refused, orient='index')\n",
    "count_df1.plot(kind='bar',legend=False)\n",
    "plt.show()"
   ]
  },
  {
   "cell_type": "markdown",
   "metadata": {},
   "source": [
    "Out of Applicants who have reapplied for loan within 100 days of their previous application being rejected,most of the applicants haven't cited any reason/Purpose for their loan."
   ]
  },
  {
   "cell_type": "code",
   "execution_count": 93,
   "metadata": {},
   "outputs": [
    {
     "data": {
      "text/plain": [
       "9763"
      ]
     },
     "execution_count": 93,
     "metadata": {},
     "output_type": "execute_result"
    }
   ],
   "source": [
    "(refused_days_less_thanyear.loc[refused_days_less_thanyear['NAME_CASH_LOAN_PURPOSE']== 'XNA']['NAME_CASH_LOAN_PURPOSE']).count()"
   ]
  },
  {
   "cell_type": "code",
   "execution_count": 94,
   "metadata": {},
   "outputs": [
    {
     "data": {
      "text/plain": [
       "14255"
      ]
     },
     "execution_count": 94,
     "metadata": {},
     "output_type": "execute_result"
    }
   ],
   "source": [
    "refused_days_less_thanyear['NAME_CASH_LOAN_PURPOSE'].count()"
   ]
  },
  {
   "cell_type": "code",
   "execution_count": 99,
   "metadata": {},
   "outputs": [
    {
     "data": {
      "text/plain": [
       "68.49"
      ]
     },
     "execution_count": 99,
     "metadata": {},
     "output_type": "execute_result"
    }
   ],
   "source": [
    "round((9763/14255)*100,2)"
   ]
  },
  {
   "cell_type": "markdown",
   "metadata": {},
   "source": [
    "Almost 68% of the people as mentioned above as not stated purpose for the Loan. It would be a good practice for the bank to take note of such cases and be cautious in lending loans to such applicants."
   ]
  },
  {
   "cell_type": "code",
   "execution_count": null,
   "metadata": {},
   "outputs": [],
   "source": []
  }
 ],
 "metadata": {
  "kernelspec": {
   "display_name": "Python 3",
   "language": "python",
   "name": "python3"
  },
  "language_info": {
   "codemirror_mode": {
    "name": "ipython",
    "version": 3
   },
   "file_extension": ".py",
   "mimetype": "text/x-python",
   "name": "python",
   "nbconvert_exporter": "python",
   "pygments_lexer": "ipython3",
   "version": "3.7.1"
  }
 },
 "nbformat": 4,
 "nbformat_minor": 2
}
